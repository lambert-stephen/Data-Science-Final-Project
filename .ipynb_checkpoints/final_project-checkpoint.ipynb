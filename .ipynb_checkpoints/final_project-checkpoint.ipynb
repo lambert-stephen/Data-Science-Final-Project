{
 "cells": [
  {
   "cell_type": "code",
   "execution_count": 301,
   "metadata": {},
   "outputs": [],
   "source": [
    "import pandas as pd\n",
    "import numpy as np\n",
    "import matplotlib.pyplot as plt\n",
    "from scipy.stats import ttest_ind\n",
    "from scipy.stats import f_oneway\n",
    "import seaborn as sns\n",
    "from sklearn.model_selection import train_test_split\n",
    "from sklearn.preprocessing import StandardScaler\n",
    "from sklearn import linear_model"
   ]
  },
  {
   "cell_type": "code",
   "execution_count": 302,
   "metadata": {
    "scrolled": true
   },
   "outputs": [
    {
     "data": {
      "text/html": [
       "<div>\n",
       "<style scoped>\n",
       "    .dataframe tbody tr th:only-of-type {\n",
       "        vertical-align: middle;\n",
       "    }\n",
       "\n",
       "    .dataframe tbody tr th {\n",
       "        vertical-align: top;\n",
       "    }\n",
       "\n",
       "    .dataframe thead th {\n",
       "        text-align: right;\n",
       "    }\n",
       "</style>\n",
       "<table border=\"1\" class=\"dataframe\">\n",
       "  <thead>\n",
       "    <tr style=\"text-align: right;\">\n",
       "      <th></th>\n",
       "      <th>Rank</th>\n",
       "      <th>Name</th>\n",
       "      <th>Platform</th>\n",
       "      <th>Year</th>\n",
       "      <th>Genre</th>\n",
       "      <th>Publisher</th>\n",
       "      <th>NA_Sales</th>\n",
       "      <th>EU_Sales</th>\n",
       "      <th>JP_Sales</th>\n",
       "      <th>Other_Sales</th>\n",
       "      <th>Global_Sales</th>\n",
       "    </tr>\n",
       "  </thead>\n",
       "  <tbody>\n",
       "    <tr>\n",
       "      <th>0</th>\n",
       "      <td>1</td>\n",
       "      <td>Wii Sports</td>\n",
       "      <td>Wii</td>\n",
       "      <td>2006.0</td>\n",
       "      <td>Sports</td>\n",
       "      <td>Nintendo</td>\n",
       "      <td>41.49</td>\n",
       "      <td>29.02</td>\n",
       "      <td>3.77</td>\n",
       "      <td>8.46</td>\n",
       "      <td>82.74</td>\n",
       "    </tr>\n",
       "    <tr>\n",
       "      <th>1</th>\n",
       "      <td>2</td>\n",
       "      <td>Super Mario Bros.</td>\n",
       "      <td>NES</td>\n",
       "      <td>1985.0</td>\n",
       "      <td>Platform</td>\n",
       "      <td>Nintendo</td>\n",
       "      <td>29.08</td>\n",
       "      <td>3.58</td>\n",
       "      <td>6.81</td>\n",
       "      <td>0.77</td>\n",
       "      <td>40.24</td>\n",
       "    </tr>\n",
       "    <tr>\n",
       "      <th>2</th>\n",
       "      <td>3</td>\n",
       "      <td>Mario Kart Wii</td>\n",
       "      <td>Wii</td>\n",
       "      <td>2008.0</td>\n",
       "      <td>Racing</td>\n",
       "      <td>Nintendo</td>\n",
       "      <td>15.85</td>\n",
       "      <td>12.88</td>\n",
       "      <td>3.79</td>\n",
       "      <td>3.31</td>\n",
       "      <td>35.82</td>\n",
       "    </tr>\n",
       "    <tr>\n",
       "      <th>3</th>\n",
       "      <td>4</td>\n",
       "      <td>Wii Sports Resort</td>\n",
       "      <td>Wii</td>\n",
       "      <td>2009.0</td>\n",
       "      <td>Sports</td>\n",
       "      <td>Nintendo</td>\n",
       "      <td>15.75</td>\n",
       "      <td>11.01</td>\n",
       "      <td>3.28</td>\n",
       "      <td>2.96</td>\n",
       "      <td>33.00</td>\n",
       "    </tr>\n",
       "    <tr>\n",
       "      <th>4</th>\n",
       "      <td>5</td>\n",
       "      <td>Pokemon Red/Pokemon Blue</td>\n",
       "      <td>GB</td>\n",
       "      <td>1996.0</td>\n",
       "      <td>Role-Playing</td>\n",
       "      <td>Nintendo</td>\n",
       "      <td>11.27</td>\n",
       "      <td>8.89</td>\n",
       "      <td>10.22</td>\n",
       "      <td>1.00</td>\n",
       "      <td>31.37</td>\n",
       "    </tr>\n",
       "  </tbody>\n",
       "</table>\n",
       "</div>"
      ],
      "text/plain": [
       "   Rank                      Name Platform    Year         Genre Publisher  \\\n",
       "0     1                Wii Sports      Wii  2006.0        Sports  Nintendo   \n",
       "1     2         Super Mario Bros.      NES  1985.0      Platform  Nintendo   \n",
       "2     3            Mario Kart Wii      Wii  2008.0        Racing  Nintendo   \n",
       "3     4         Wii Sports Resort      Wii  2009.0        Sports  Nintendo   \n",
       "4     5  Pokemon Red/Pokemon Blue       GB  1996.0  Role-Playing  Nintendo   \n",
       "\n",
       "   NA_Sales  EU_Sales  JP_Sales  Other_Sales  Global_Sales  \n",
       "0     41.49     29.02      3.77         8.46         82.74  \n",
       "1     29.08      3.58      6.81         0.77         40.24  \n",
       "2     15.85     12.88      3.79         3.31         35.82  \n",
       "3     15.75     11.01      3.28         2.96         33.00  \n",
       "4     11.27      8.89     10.22         1.00         31.37  "
      ]
     },
     "execution_count": 302,
     "metadata": {},
     "output_type": "execute_result"
    }
   ],
   "source": [
    "# Load dataset from vgsales.csv and display first five rows\n",
    "sales_data = pd.read_csv('vgsales.csv')\n",
    "sales_data.head()"
   ]
  },
  {
   "cell_type": "code",
   "execution_count": 303,
   "metadata": {},
   "outputs": [
    {
     "name": "stdout",
     "output_type": "stream",
     "text": [
      "<class 'pandas.core.frame.DataFrame'>\n",
      "RangeIndex: 16598 entries, 0 to 16597\n",
      "Data columns (total 11 columns):\n",
      " #   Column        Non-Null Count  Dtype  \n",
      "---  ------        --------------  -----  \n",
      " 0   Rank          16598 non-null  int64  \n",
      " 1   Name          16598 non-null  object \n",
      " 2   Platform      16598 non-null  object \n",
      " 3   Year          16327 non-null  float64\n",
      " 4   Genre         16598 non-null  object \n",
      " 5   Publisher     16540 non-null  object \n",
      " 6   NA_Sales      16598 non-null  float64\n",
      " 7   EU_Sales      16598 non-null  float64\n",
      " 8   JP_Sales      16598 non-null  float64\n",
      " 9   Other_Sales   16598 non-null  float64\n",
      " 10  Global_Sales  16598 non-null  float64\n",
      "dtypes: float64(6), int64(1), object(4)\n",
      "memory usage: 1.4+ MB\n"
     ]
    }
   ],
   "source": [
    "# Explore the dataset\n",
    "sales_data.info()"
   ]
  },
  {
   "cell_type": "code",
   "execution_count": 304,
   "metadata": {},
   "outputs": [
    {
     "data": {
      "text/html": [
       "<div>\n",
       "<style scoped>\n",
       "    .dataframe tbody tr th:only-of-type {\n",
       "        vertical-align: middle;\n",
       "    }\n",
       "\n",
       "    .dataframe tbody tr th {\n",
       "        vertical-align: top;\n",
       "    }\n",
       "\n",
       "    .dataframe thead th {\n",
       "        text-align: right;\n",
       "    }\n",
       "</style>\n",
       "<table border=\"1\" class=\"dataframe\">\n",
       "  <thead>\n",
       "    <tr style=\"text-align: right;\">\n",
       "      <th></th>\n",
       "      <th>Rank</th>\n",
       "      <th>Name</th>\n",
       "      <th>Platform</th>\n",
       "      <th>Year</th>\n",
       "      <th>Genre</th>\n",
       "      <th>Publisher</th>\n",
       "      <th>NA_Sales</th>\n",
       "      <th>EU_Sales</th>\n",
       "      <th>JP_Sales</th>\n",
       "      <th>Other_Sales</th>\n",
       "      <th>Global_Sales</th>\n",
       "    </tr>\n",
       "  </thead>\n",
       "  <tbody>\n",
       "    <tr>\n",
       "      <th>count</th>\n",
       "      <td>16598.000000</td>\n",
       "      <td>16598</td>\n",
       "      <td>16598</td>\n",
       "      <td>16327.000000</td>\n",
       "      <td>16598</td>\n",
       "      <td>16540</td>\n",
       "      <td>16598.000000</td>\n",
       "      <td>16598.000000</td>\n",
       "      <td>16598.000000</td>\n",
       "      <td>16598.000000</td>\n",
       "      <td>16598.000000</td>\n",
       "    </tr>\n",
       "    <tr>\n",
       "      <th>unique</th>\n",
       "      <td>NaN</td>\n",
       "      <td>11493</td>\n",
       "      <td>31</td>\n",
       "      <td>NaN</td>\n",
       "      <td>12</td>\n",
       "      <td>578</td>\n",
       "      <td>NaN</td>\n",
       "      <td>NaN</td>\n",
       "      <td>NaN</td>\n",
       "      <td>NaN</td>\n",
       "      <td>NaN</td>\n",
       "    </tr>\n",
       "    <tr>\n",
       "      <th>top</th>\n",
       "      <td>NaN</td>\n",
       "      <td>Need for Speed: Most Wanted</td>\n",
       "      <td>DS</td>\n",
       "      <td>NaN</td>\n",
       "      <td>Action</td>\n",
       "      <td>Electronic Arts</td>\n",
       "      <td>NaN</td>\n",
       "      <td>NaN</td>\n",
       "      <td>NaN</td>\n",
       "      <td>NaN</td>\n",
       "      <td>NaN</td>\n",
       "    </tr>\n",
       "    <tr>\n",
       "      <th>freq</th>\n",
       "      <td>NaN</td>\n",
       "      <td>12</td>\n",
       "      <td>2163</td>\n",
       "      <td>NaN</td>\n",
       "      <td>3316</td>\n",
       "      <td>1351</td>\n",
       "      <td>NaN</td>\n",
       "      <td>NaN</td>\n",
       "      <td>NaN</td>\n",
       "      <td>NaN</td>\n",
       "      <td>NaN</td>\n",
       "    </tr>\n",
       "    <tr>\n",
       "      <th>mean</th>\n",
       "      <td>8300.605254</td>\n",
       "      <td>NaN</td>\n",
       "      <td>NaN</td>\n",
       "      <td>2006.406443</td>\n",
       "      <td>NaN</td>\n",
       "      <td>NaN</td>\n",
       "      <td>0.264667</td>\n",
       "      <td>0.146652</td>\n",
       "      <td>0.077782</td>\n",
       "      <td>0.048063</td>\n",
       "      <td>0.537441</td>\n",
       "    </tr>\n",
       "    <tr>\n",
       "      <th>std</th>\n",
       "      <td>4791.853933</td>\n",
       "      <td>NaN</td>\n",
       "      <td>NaN</td>\n",
       "      <td>5.828981</td>\n",
       "      <td>NaN</td>\n",
       "      <td>NaN</td>\n",
       "      <td>0.816683</td>\n",
       "      <td>0.505351</td>\n",
       "      <td>0.309291</td>\n",
       "      <td>0.188588</td>\n",
       "      <td>1.555028</td>\n",
       "    </tr>\n",
       "    <tr>\n",
       "      <th>min</th>\n",
       "      <td>1.000000</td>\n",
       "      <td>NaN</td>\n",
       "      <td>NaN</td>\n",
       "      <td>1980.000000</td>\n",
       "      <td>NaN</td>\n",
       "      <td>NaN</td>\n",
       "      <td>0.000000</td>\n",
       "      <td>0.000000</td>\n",
       "      <td>0.000000</td>\n",
       "      <td>0.000000</td>\n",
       "      <td>0.010000</td>\n",
       "    </tr>\n",
       "    <tr>\n",
       "      <th>25%</th>\n",
       "      <td>4151.250000</td>\n",
       "      <td>NaN</td>\n",
       "      <td>NaN</td>\n",
       "      <td>2003.000000</td>\n",
       "      <td>NaN</td>\n",
       "      <td>NaN</td>\n",
       "      <td>0.000000</td>\n",
       "      <td>0.000000</td>\n",
       "      <td>0.000000</td>\n",
       "      <td>0.000000</td>\n",
       "      <td>0.060000</td>\n",
       "    </tr>\n",
       "    <tr>\n",
       "      <th>50%</th>\n",
       "      <td>8300.500000</td>\n",
       "      <td>NaN</td>\n",
       "      <td>NaN</td>\n",
       "      <td>2007.000000</td>\n",
       "      <td>NaN</td>\n",
       "      <td>NaN</td>\n",
       "      <td>0.080000</td>\n",
       "      <td>0.020000</td>\n",
       "      <td>0.000000</td>\n",
       "      <td>0.010000</td>\n",
       "      <td>0.170000</td>\n",
       "    </tr>\n",
       "    <tr>\n",
       "      <th>75%</th>\n",
       "      <td>12449.750000</td>\n",
       "      <td>NaN</td>\n",
       "      <td>NaN</td>\n",
       "      <td>2010.000000</td>\n",
       "      <td>NaN</td>\n",
       "      <td>NaN</td>\n",
       "      <td>0.240000</td>\n",
       "      <td>0.110000</td>\n",
       "      <td>0.040000</td>\n",
       "      <td>0.040000</td>\n",
       "      <td>0.470000</td>\n",
       "    </tr>\n",
       "    <tr>\n",
       "      <th>max</th>\n",
       "      <td>16600.000000</td>\n",
       "      <td>NaN</td>\n",
       "      <td>NaN</td>\n",
       "      <td>2020.000000</td>\n",
       "      <td>NaN</td>\n",
       "      <td>NaN</td>\n",
       "      <td>41.490000</td>\n",
       "      <td>29.020000</td>\n",
       "      <td>10.220000</td>\n",
       "      <td>10.570000</td>\n",
       "      <td>82.740000</td>\n",
       "    </tr>\n",
       "  </tbody>\n",
       "</table>\n",
       "</div>"
      ],
      "text/plain": [
       "                Rank                         Name Platform          Year  \\\n",
       "count   16598.000000                        16598    16598  16327.000000   \n",
       "unique           NaN                        11493       31           NaN   \n",
       "top              NaN  Need for Speed: Most Wanted       DS           NaN   \n",
       "freq             NaN                           12     2163           NaN   \n",
       "mean     8300.605254                          NaN      NaN   2006.406443   \n",
       "std      4791.853933                          NaN      NaN      5.828981   \n",
       "min         1.000000                          NaN      NaN   1980.000000   \n",
       "25%      4151.250000                          NaN      NaN   2003.000000   \n",
       "50%      8300.500000                          NaN      NaN   2007.000000   \n",
       "75%     12449.750000                          NaN      NaN   2010.000000   \n",
       "max     16600.000000                          NaN      NaN   2020.000000   \n",
       "\n",
       "         Genre        Publisher      NA_Sales      EU_Sales      JP_Sales  \\\n",
       "count    16598            16540  16598.000000  16598.000000  16598.000000   \n",
       "unique      12              578           NaN           NaN           NaN   \n",
       "top     Action  Electronic Arts           NaN           NaN           NaN   \n",
       "freq      3316             1351           NaN           NaN           NaN   \n",
       "mean       NaN              NaN      0.264667      0.146652      0.077782   \n",
       "std        NaN              NaN      0.816683      0.505351      0.309291   \n",
       "min        NaN              NaN      0.000000      0.000000      0.000000   \n",
       "25%        NaN              NaN      0.000000      0.000000      0.000000   \n",
       "50%        NaN              NaN      0.080000      0.020000      0.000000   \n",
       "75%        NaN              NaN      0.240000      0.110000      0.040000   \n",
       "max        NaN              NaN     41.490000     29.020000     10.220000   \n",
       "\n",
       "         Other_Sales  Global_Sales  \n",
       "count   16598.000000  16598.000000  \n",
       "unique           NaN           NaN  \n",
       "top              NaN           NaN  \n",
       "freq             NaN           NaN  \n",
       "mean        0.048063      0.537441  \n",
       "std         0.188588      1.555028  \n",
       "min         0.000000      0.010000  \n",
       "25%         0.000000      0.060000  \n",
       "50%         0.010000      0.170000  \n",
       "75%         0.040000      0.470000  \n",
       "max        10.570000     82.740000  "
      ]
     },
     "execution_count": 304,
     "metadata": {},
     "output_type": "execute_result"
    }
   ],
   "source": [
    "# Explore the dataset (continued)\n",
    "sales_data.describe(include=\"all\")"
   ]
  },
  {
   "cell_type": "code",
   "execution_count": 305,
   "metadata": {},
   "outputs": [
    {
     "data": {
      "text/html": [
       "<div>\n",
       "<style scoped>\n",
       "    .dataframe tbody tr th:only-of-type {\n",
       "        vertical-align: middle;\n",
       "    }\n",
       "\n",
       "    .dataframe tbody tr th {\n",
       "        vertical-align: top;\n",
       "    }\n",
       "\n",
       "    .dataframe thead th {\n",
       "        text-align: right;\n",
       "    }\n",
       "</style>\n",
       "<table border=\"1\" class=\"dataframe\">\n",
       "  <thead>\n",
       "    <tr style=\"text-align: right;\">\n",
       "      <th></th>\n",
       "      <th>Number</th>\n",
       "      <th>Name</th>\n",
       "      <th>Platform</th>\n",
       "      <th>Release_Date</th>\n",
       "      <th>Metascore</th>\n",
       "      <th>Userscore</th>\n",
       "    </tr>\n",
       "  </thead>\n",
       "  <tbody>\n",
       "    <tr>\n",
       "      <th>0</th>\n",
       "      <td>1.0</td>\n",
       "      <td>The Legend of Zelda: Ocarina of Time</td>\n",
       "      <td>Nintendo 64</td>\n",
       "      <td>November 23, 1998</td>\n",
       "      <td>99</td>\n",
       "      <td>9.1</td>\n",
       "    </tr>\n",
       "    <tr>\n",
       "      <th>1</th>\n",
       "      <td>2.0</td>\n",
       "      <td>Tony Hawk's Pro Skater 2</td>\n",
       "      <td>PlayStation</td>\n",
       "      <td>September 20, 2000</td>\n",
       "      <td>98</td>\n",
       "      <td>7.4</td>\n",
       "    </tr>\n",
       "    <tr>\n",
       "      <th>2</th>\n",
       "      <td>3.0</td>\n",
       "      <td>Grand Theft Auto IV</td>\n",
       "      <td>PlayStation 3</td>\n",
       "      <td>April 29, 2008</td>\n",
       "      <td>98</td>\n",
       "      <td>7.6</td>\n",
       "    </tr>\n",
       "    <tr>\n",
       "      <th>3</th>\n",
       "      <td>4.0</td>\n",
       "      <td>SoulCalibur</td>\n",
       "      <td>Dreamcast</td>\n",
       "      <td>September 8, 1999</td>\n",
       "      <td>98</td>\n",
       "      <td>8.5</td>\n",
       "    </tr>\n",
       "    <tr>\n",
       "      <th>4</th>\n",
       "      <td>5.0</td>\n",
       "      <td>Grand Theft Auto IV</td>\n",
       "      <td>Xbox 360</td>\n",
       "      <td>April 29, 2008</td>\n",
       "      <td>98</td>\n",
       "      <td>7.9</td>\n",
       "    </tr>\n",
       "  </tbody>\n",
       "</table>\n",
       "</div>"
      ],
      "text/plain": [
       "   Number                                  Name       Platform  \\\n",
       "0     1.0  The Legend of Zelda: Ocarina of Time    Nintendo 64   \n",
       "1     2.0              Tony Hawk's Pro Skater 2    PlayStation   \n",
       "2     3.0                   Grand Theft Auto IV  PlayStation 3   \n",
       "3     4.0                           SoulCalibur      Dreamcast   \n",
       "4     5.0                   Grand Theft Auto IV       Xbox 360   \n",
       "\n",
       "         Release_Date  Metascore Userscore  \n",
       "0   November 23, 1998         99       9.1  \n",
       "1  September 20, 2000         98       7.4  \n",
       "2      April 29, 2008         98       7.6  \n",
       "3   September 8, 1999         98       8.5  \n",
       "4      April 29, 2008         98       7.9  "
      ]
     },
     "execution_count": 305,
     "metadata": {},
     "output_type": "execute_result"
    }
   ],
   "source": [
    "# Load dataset from vgratings.csv and display first five rows\n",
    "ratings_data = pd.read_csv('vgratings.csv')\n",
    "ratings_data.head()"
   ]
  },
  {
   "cell_type": "code",
   "execution_count": 306,
   "metadata": {},
   "outputs": [
    {
     "name": "stdout",
     "output_type": "stream",
     "text": [
      "<class 'pandas.core.frame.DataFrame'>\n",
      "RangeIndex: 18009 entries, 0 to 18008\n",
      "Data columns (total 6 columns):\n",
      " #   Column        Non-Null Count  Dtype  \n",
      "---  ------        --------------  -----  \n",
      " 0   Number        18009 non-null  float64\n",
      " 1   Name          18009 non-null  object \n",
      " 2   Platform      18009 non-null  object \n",
      " 3   Release_Date  18009 non-null  object \n",
      " 4   Metascore     18009 non-null  int64  \n",
      " 5   Userscore     18009 non-null  object \n",
      "dtypes: float64(1), int64(1), object(4)\n",
      "memory usage: 844.3+ KB\n"
     ]
    }
   ],
   "source": [
    "# Explore the dataset\n",
    "ratings_data.info()"
   ]
  },
  {
   "cell_type": "code",
   "execution_count": 307,
   "metadata": {},
   "outputs": [
    {
     "data": {
      "text/html": [
       "<div>\n",
       "<style scoped>\n",
       "    .dataframe tbody tr th:only-of-type {\n",
       "        vertical-align: middle;\n",
       "    }\n",
       "\n",
       "    .dataframe tbody tr th {\n",
       "        vertical-align: top;\n",
       "    }\n",
       "\n",
       "    .dataframe thead th {\n",
       "        text-align: right;\n",
       "    }\n",
       "</style>\n",
       "<table border=\"1\" class=\"dataframe\">\n",
       "  <thead>\n",
       "    <tr style=\"text-align: right;\">\n",
       "      <th></th>\n",
       "      <th>Number</th>\n",
       "      <th>Name</th>\n",
       "      <th>Platform</th>\n",
       "      <th>Release_Date</th>\n",
       "      <th>Metascore</th>\n",
       "      <th>Userscore</th>\n",
       "    </tr>\n",
       "  </thead>\n",
       "  <tbody>\n",
       "    <tr>\n",
       "      <th>count</th>\n",
       "      <td>18009.000000</td>\n",
       "      <td>18009</td>\n",
       "      <td>18009</td>\n",
       "      <td>18009</td>\n",
       "      <td>18009.000000</td>\n",
       "      <td>18009</td>\n",
       "    </tr>\n",
       "    <tr>\n",
       "      <th>unique</th>\n",
       "      <td>NaN</td>\n",
       "      <td>11820</td>\n",
       "      <td>22</td>\n",
       "      <td>4366</td>\n",
       "      <td>NaN</td>\n",
       "      <td>95</td>\n",
       "    </tr>\n",
       "    <tr>\n",
       "      <th>top</th>\n",
       "      <td>NaN</td>\n",
       "      <td>Madden NFL 07</td>\n",
       "      <td>PC</td>\n",
       "      <td>November 14, 2006</td>\n",
       "      <td>NaN</td>\n",
       "      <td>tbd</td>\n",
       "    </tr>\n",
       "    <tr>\n",
       "      <th>freq</th>\n",
       "      <td>NaN</td>\n",
       "      <td>9</td>\n",
       "      <td>4605</td>\n",
       "      <td>48</td>\n",
       "      <td>NaN</td>\n",
       "      <td>1277</td>\n",
       "    </tr>\n",
       "    <tr>\n",
       "      <th>mean</th>\n",
       "      <td>9005.000000</td>\n",
       "      <td>NaN</td>\n",
       "      <td>NaN</td>\n",
       "      <td>NaN</td>\n",
       "      <td>70.405408</td>\n",
       "      <td>NaN</td>\n",
       "    </tr>\n",
       "    <tr>\n",
       "      <th>std</th>\n",
       "      <td>5198.894834</td>\n",
       "      <td>NaN</td>\n",
       "      <td>NaN</td>\n",
       "      <td>NaN</td>\n",
       "      <td>12.396993</td>\n",
       "      <td>NaN</td>\n",
       "    </tr>\n",
       "    <tr>\n",
       "      <th>min</th>\n",
       "      <td>1.000000</td>\n",
       "      <td>NaN</td>\n",
       "      <td>NaN</td>\n",
       "      <td>NaN</td>\n",
       "      <td>11.000000</td>\n",
       "      <td>NaN</td>\n",
       "    </tr>\n",
       "    <tr>\n",
       "      <th>25%</th>\n",
       "      <td>4503.000000</td>\n",
       "      <td>NaN</td>\n",
       "      <td>NaN</td>\n",
       "      <td>NaN</td>\n",
       "      <td>63.000000</td>\n",
       "      <td>NaN</td>\n",
       "    </tr>\n",
       "    <tr>\n",
       "      <th>50%</th>\n",
       "      <td>9005.000000</td>\n",
       "      <td>NaN</td>\n",
       "      <td>NaN</td>\n",
       "      <td>NaN</td>\n",
       "      <td>72.000000</td>\n",
       "      <td>NaN</td>\n",
       "    </tr>\n",
       "    <tr>\n",
       "      <th>75%</th>\n",
       "      <td>13507.000000</td>\n",
       "      <td>NaN</td>\n",
       "      <td>NaN</td>\n",
       "      <td>NaN</td>\n",
       "      <td>79.000000</td>\n",
       "      <td>NaN</td>\n",
       "    </tr>\n",
       "    <tr>\n",
       "      <th>max</th>\n",
       "      <td>18009.000000</td>\n",
       "      <td>NaN</td>\n",
       "      <td>NaN</td>\n",
       "      <td>NaN</td>\n",
       "      <td>99.000000</td>\n",
       "      <td>NaN</td>\n",
       "    </tr>\n",
       "  </tbody>\n",
       "</table>\n",
       "</div>"
      ],
      "text/plain": [
       "              Number           Name Platform       Release_Date     Metascore  \\\n",
       "count   18009.000000          18009    18009              18009  18009.000000   \n",
       "unique           NaN          11820       22               4366           NaN   \n",
       "top              NaN  Madden NFL 07       PC  November 14, 2006           NaN   \n",
       "freq             NaN              9     4605                 48           NaN   \n",
       "mean     9005.000000            NaN      NaN                NaN     70.405408   \n",
       "std      5198.894834            NaN      NaN                NaN     12.396993   \n",
       "min         1.000000            NaN      NaN                NaN     11.000000   \n",
       "25%      4503.000000            NaN      NaN                NaN     63.000000   \n",
       "50%      9005.000000            NaN      NaN                NaN     72.000000   \n",
       "75%     13507.000000            NaN      NaN                NaN     79.000000   \n",
       "max     18009.000000            NaN      NaN                NaN     99.000000   \n",
       "\n",
       "       Userscore  \n",
       "count      18009  \n",
       "unique        95  \n",
       "top          tbd  \n",
       "freq        1277  \n",
       "mean         NaN  \n",
       "std          NaN  \n",
       "min          NaN  \n",
       "25%          NaN  \n",
       "50%          NaN  \n",
       "75%          NaN  \n",
       "max          NaN  "
      ]
     },
     "execution_count": 307,
     "metadata": {},
     "output_type": "execute_result"
    }
   ],
   "source": [
    "# Explore the dataset (continued)\n",
    "ratings_data.describe(include=\"all\")"
   ]
  },
  {
   "cell_type": "code",
   "execution_count": 308,
   "metadata": {},
   "outputs": [
    {
     "name": "stdout",
     "output_type": "stream",
     "text": [
      "Distinct platforms in sales_data:  ['Wii' 'NES' 'GB' 'DS' 'X360' 'PS3' 'PS2' 'SNES' 'GBA' '3DS' 'PS4' 'N64'\n",
      " 'PS' 'XB' 'PC' '2600' 'PSP' 'XOne' 'GC' 'WiiU' 'GEN' 'DC' 'PSV' 'SAT'\n",
      " 'SCD' 'WS' 'NG' 'TG16' '3DO' 'GG' 'PCFX']\n",
      "Distinct platforms in ratings_data:  ['Nintendo 64' 'PlayStation' 'PlayStation 3' 'Dreamcast' 'Xbox 360' 'Wii'\n",
      " 'Xbox One' 'Switch' 'PlayStation 2' 'PlayStation 4' 'GameCube' 'Xbox'\n",
      " 'PC' 'Wii U' 'Game Boy Advance' '3DS' 'DS' 'PlayStation Vita'\n",
      " 'PlayStation 5' 'PSP' 'Xbox Series X' 'Stadia']\n"
     ]
    }
   ],
   "source": [
    "# Display all distinct platforms for each dataset\n",
    "print('Distinct platforms in sales_data: ', sales_data['Platform'].unique())\n",
    "print('Distinct platforms in ratings_data: ', ratings_data['Platform'].unique())"
   ]
  },
  {
   "cell_type": "code",
   "execution_count": 309,
   "metadata": {},
   "outputs": [
    {
     "name": "stdout",
     "output_type": "stream",
     "text": [
      "# of unique games in sales_data:  11493\n",
      "# of unique games in ratings_data:  11820\n",
      "# of unique platforms in sales_data:  31\n",
      "# of unique platforms in ratings_data:  22\n"
     ]
    }
   ],
   "source": [
    "# Display number of unique games and platforms for each dataset\n",
    "print('# of unique games in sales_data: ', sales_data['Name'].unique().size)\n",
    "print('# of unique games in ratings_data: ', ratings_data['Name'].unique().size)\n",
    "print('# of unique platforms in sales_data: ', sales_data['Platform'].unique().size)\n",
    "print('# of unique platforms in ratings_data: ', ratings_data['Platform'].unique().size)"
   ]
  },
  {
   "cell_type": "code",
   "execution_count": 310,
   "metadata": {},
   "outputs": [
    {
     "name": "stdout",
     "output_type": "stream",
     "text": [
      "Distinct platforms in sales_data:  ['Wii' 'Nintendo Entertainment System' 'Game Boy' 'DS' 'Xbox 360'\n",
      " 'PlayStation 3' 'PlayStation 2' 'Super Nintendo Entertainment System'\n",
      " 'Game Boy Advance' '3DS' 'PlayStation 4' 'Nintendo 64' 'PlayStation'\n",
      " 'Xbox' 'PC' 'Atari 2600' 'PSP' 'Xbox One' 'GameCube' 'Wii U'\n",
      " 'Sega Genesis' 'Dreamcast' 'PlayStation Vita' 'Sega Saturn' 'SCD'\n",
      " 'WonderSwan' 'NG' 'TurboGrafx-16' '3DO Interactive Multiplayer'\n",
      " 'Game Gear' 'PC-FX']\n",
      "Distinct platforms in ratings_data:  ['Nintendo 64' 'PlayStation' 'PlayStation 3' 'Dreamcast' 'Xbox 360' 'Wii'\n",
      " 'Xbox One' 'Switch' 'PlayStation 2' 'PlayStation 4' 'GameCube' 'Xbox'\n",
      " 'PC' 'Wii U' 'Game Boy Advance' '3DS' 'DS' 'PlayStation Vita'\n",
      " 'PlayStation 5' 'PSP' 'Xbox Series X' 'Stadia']\n"
     ]
    }
   ],
   "source": [
    "# Replace the abbreviated 'Platform' data in sales_data w/ its full abbreviation\n",
    "abbreviated_platforms = {\n",
    "    \"Wii\": \"Wii\",\n",
    "    \"NES\": \"Nintendo Entertainment System\",\n",
    "    \"GB\": \"Game Boy\",\n",
    "    \"DS\": \"DS\",\n",
    "    \"X360\": \"Xbox 360\",\n",
    "    \"PS3\": \"PlayStation 3\",\n",
    "    \"PS2\": \"PlayStation 2\",\n",
    "    \"SNES\": \"Super Nintendo Entertainment System\",\n",
    "    \"GBA\": \"Game Boy Advance\",\n",
    "    \"3DS\": \"3DS\",\n",
    "    \"PS4\": \"PlayStation 4\",\n",
    "    \"N64\": \"Nintendo 64\",\n",
    "    \"PS\": \"PlayStation\",\n",
    "    \"XB\": \"Xbox\",\n",
    "    \"PC\": \"PC\",\n",
    "    \"2600\": \"Atari 2600\",\n",
    "    \"PSP\": \"PSP\",\n",
    "    \"XOne\": \"Xbox One\",\n",
    "    \"GC\": \"GameCube\",\n",
    "    \"WiiU\": \"Wii U\",\n",
    "    \"GEN\": \"Sega Genesis\",\n",
    "    \"DC\": \"Dreamcast\",\n",
    "    \"PSV\": \"PlayStation Vita\",\n",
    "    \"SAT\": \"Sega Saturn\",\n",
    "    \"SCD\": \"SCD\",\n",
    "    \"WS\": \"WonderSwan\",\n",
    "    \"NG\": \"NG\",\n",
    "    \"TG16\": \"TurboGrafx-16\",\n",
    "    \"3DO\": \"3DO Interactive Multiplayer\",\n",
    "    \"GG\": \"Game Gear\",\n",
    "    \"PCFX\": \"PC-FX\",\n",
    "}\n",
    "sales_data['Platform'] = sales_data['Platform'].map(abbreviated_platforms)\n",
    "print('Distinct platforms in sales_data: ', sales_data['Platform'].unique())\n",
    "print('Distinct platforms in ratings_data: ', ratings_data['Platform'].unique())"
   ]
  },
  {
   "cell_type": "code",
   "execution_count": 311,
   "metadata": {
    "scrolled": true
   },
   "outputs": [
    {
     "data": {
      "text/plain": [
       "(16598, 10)"
      ]
     },
     "execution_count": 311,
     "metadata": {},
     "output_type": "execute_result"
    }
   ],
   "source": [
    "# Drop 'Rank' in sales_data\n",
    "sales_data = sales_data.drop(columns=['Rank'])\n",
    "sales_data.shape"
   ]
  },
  {
   "cell_type": "code",
   "execution_count": 312,
   "metadata": {},
   "outputs": [
    {
     "name": "stdout",
     "output_type": "stream",
     "text": [
      "<class 'pandas.core.frame.DataFrame'>\n",
      "RangeIndex: 16598 entries, 0 to 16597\n",
      "Data columns (total 10 columns):\n",
      " #   Column        Non-Null Count  Dtype  \n",
      "---  ------        --------------  -----  \n",
      " 0   Name          16598 non-null  object \n",
      " 1   Platform      16598 non-null  object \n",
      " 2   Year          16327 non-null  float64\n",
      " 3   Genre         16598 non-null  object \n",
      " 4   Publisher     16598 non-null  object \n",
      " 5   NA_Sales      16598 non-null  float64\n",
      " 6   EU_Sales      16598 non-null  float64\n",
      " 7   JP_Sales      16598 non-null  float64\n",
      " 8   Other_Sales   16598 non-null  float64\n",
      " 9   Global_Sales  16598 non-null  float64\n",
      "dtypes: float64(6), object(4)\n",
      "memory usage: 1.3+ MB\n"
     ]
    }
   ],
   "source": [
    "# Replace 'Publisher' missing values in sales_data (e.g., with 'Unknown')\n",
    "sales_data['Publisher'] = sales_data['Publisher'].fillna('Unknown')\n",
    "sales_data.info()"
   ]
  },
  {
   "cell_type": "code",
   "execution_count": 313,
   "metadata": {},
   "outputs": [
    {
     "name": "stdout",
     "output_type": "stream",
     "text": [
      "<class 'pandas.core.frame.DataFrame'>\n",
      "Int64Index: 16327 entries, 0 to 16597\n",
      "Data columns (total 10 columns):\n",
      " #   Column        Non-Null Count  Dtype  \n",
      "---  ------        --------------  -----  \n",
      " 0   Name          16327 non-null  object \n",
      " 1   Platform      16327 non-null  object \n",
      " 2   Year          16327 non-null  float64\n",
      " 3   Genre         16327 non-null  object \n",
      " 4   Publisher     16327 non-null  object \n",
      " 5   NA_Sales      16327 non-null  float64\n",
      " 6   EU_Sales      16327 non-null  float64\n",
      " 7   JP_Sales      16327 non-null  float64\n",
      " 8   Other_Sales   16327 non-null  float64\n",
      " 9   Global_Sales  16327 non-null  float64\n",
      "dtypes: float64(6), object(4)\n",
      "memory usage: 1.4+ MB\n"
     ]
    }
   ],
   "source": [
    "# Drop missing values from variable 'Year' in sales_data\n",
    "sales_data = sales_data.dropna()\n",
    "sales_data.info()"
   ]
  },
  {
   "cell_type": "code",
   "execution_count": 314,
   "metadata": {},
   "outputs": [
    {
     "name": "stdout",
     "output_type": "stream",
     "text": [
      "Year type: <class 'numpy.int64'>\n"
     ]
    }
   ],
   "source": [
    "# Convert the variable 'Year' in sales_data from type float64 to type int64\n",
    "sales_data['Year'] = sales_data['Year'].map(lambda x: int(x))\n",
    "print('Year type:', type(sales_data['Year'][0]))"
   ]
  },
  {
   "cell_type": "code",
   "execution_count": 315,
   "metadata": {},
   "outputs": [
    {
     "data": {
      "text/plain": [
       "(18009, 5)"
      ]
     },
     "execution_count": 315,
     "metadata": {},
     "output_type": "execute_result"
    }
   ],
   "source": [
    "# Drop 'Number' in sales_data\n",
    "ratings_data = ratings_data.drop(columns=['Number'])\n",
    "ratings_data.shape"
   ]
  },
  {
   "cell_type": "code",
   "execution_count": 316,
   "metadata": {},
   "outputs": [
    {
     "name": "stdout",
     "output_type": "stream",
     "text": [
      "Userscore type: <class 'numpy.float64'>\n"
     ]
    },
    {
     "data": {
      "text/html": [
       "<div>\n",
       "<style scoped>\n",
       "    .dataframe tbody tr th:only-of-type {\n",
       "        vertical-align: middle;\n",
       "    }\n",
       "\n",
       "    .dataframe tbody tr th {\n",
       "        vertical-align: top;\n",
       "    }\n",
       "\n",
       "    .dataframe thead th {\n",
       "        text-align: right;\n",
       "    }\n",
       "</style>\n",
       "<table border=\"1\" class=\"dataframe\">\n",
       "  <thead>\n",
       "    <tr style=\"text-align: right;\">\n",
       "      <th></th>\n",
       "      <th>Name</th>\n",
       "      <th>Platform</th>\n",
       "      <th>Release_Date</th>\n",
       "      <th>Metascore</th>\n",
       "      <th>Userscore</th>\n",
       "    </tr>\n",
       "  </thead>\n",
       "  <tbody>\n",
       "    <tr>\n",
       "      <th>497</th>\n",
       "      <td>Madden NFL 2005</td>\n",
       "      <td>GameCube</td>\n",
       "      <td>August 9, 2004</td>\n",
       "      <td>90</td>\n",
       "      <td>NaN</td>\n",
       "    </tr>\n",
       "    <tr>\n",
       "      <th>924</th>\n",
       "      <td>Tiger Woods PGA Tour 2005</td>\n",
       "      <td>GameCube</td>\n",
       "      <td>September 20, 2004</td>\n",
       "      <td>88</td>\n",
       "      <td>NaN</td>\n",
       "    </tr>\n",
       "    <tr>\n",
       "      <th>1220</th>\n",
       "      <td>NASCAR 2005: Chase for the Cup</td>\n",
       "      <td>Xbox</td>\n",
       "      <td>August 31, 2004</td>\n",
       "      <td>86</td>\n",
       "      <td>NaN</td>\n",
       "    </tr>\n",
       "    <tr>\n",
       "      <th>1410</th>\n",
       "      <td>Moto Racer Advance</td>\n",
       "      <td>Game Boy Advance</td>\n",
       "      <td>December 5, 2002</td>\n",
       "      <td>86</td>\n",
       "      <td>NaN</td>\n",
       "    </tr>\n",
       "    <tr>\n",
       "      <th>2109</th>\n",
       "      <td>Pinball FX 2: Marvel Pinball - Vengeance and V...</td>\n",
       "      <td>Xbox 360</td>\n",
       "      <td>December 13, 2011</td>\n",
       "      <td>84</td>\n",
       "      <td>NaN</td>\n",
       "    </tr>\n",
       "    <tr>\n",
       "      <th>...</th>\n",
       "      <td>...</td>\n",
       "      <td>...</td>\n",
       "      <td>...</td>\n",
       "      <td>...</td>\n",
       "      <td>...</td>\n",
       "    </tr>\n",
       "    <tr>\n",
       "      <th>17817</th>\n",
       "      <td>Jackass the Game</td>\n",
       "      <td>DS</td>\n",
       "      <td>January 8, 2008</td>\n",
       "      <td>35</td>\n",
       "      <td>NaN</td>\n",
       "    </tr>\n",
       "    <tr>\n",
       "      <th>17840</th>\n",
       "      <td>King of Clubs</td>\n",
       "      <td>Wii</td>\n",
       "      <td>August 4, 2008</td>\n",
       "      <td>35</td>\n",
       "      <td>NaN</td>\n",
       "    </tr>\n",
       "    <tr>\n",
       "      <th>17900</th>\n",
       "      <td>Jenga World Tour</td>\n",
       "      <td>DS</td>\n",
       "      <td>November 13, 2007</td>\n",
       "      <td>32</td>\n",
       "      <td>NaN</td>\n",
       "    </tr>\n",
       "    <tr>\n",
       "      <th>17915</th>\n",
       "      <td>Dream Chronicles</td>\n",
       "      <td>PlayStation 3</td>\n",
       "      <td>November 23, 2010</td>\n",
       "      <td>31</td>\n",
       "      <td>NaN</td>\n",
       "    </tr>\n",
       "    <tr>\n",
       "      <th>17917</th>\n",
       "      <td>Smash 'N' Survive</td>\n",
       "      <td>PlayStation 3</td>\n",
       "      <td>February 22, 2012</td>\n",
       "      <td>31</td>\n",
       "      <td>NaN</td>\n",
       "    </tr>\n",
       "  </tbody>\n",
       "</table>\n",
       "<p>1277 rows × 5 columns</p>\n",
       "</div>"
      ],
      "text/plain": [
       "                                                    Name          Platform  \\\n",
       "497                                      Madden NFL 2005          GameCube   \n",
       "924                            Tiger Woods PGA Tour 2005          GameCube   \n",
       "1220                      NASCAR 2005: Chase for the Cup              Xbox   \n",
       "1410                                  Moto Racer Advance  Game Boy Advance   \n",
       "2109   Pinball FX 2: Marvel Pinball - Vengeance and V...          Xbox 360   \n",
       "...                                                  ...               ...   \n",
       "17817                                   Jackass the Game                DS   \n",
       "17840                                      King of Clubs               Wii   \n",
       "17900                                   Jenga World Tour                DS   \n",
       "17915                                   Dream Chronicles     PlayStation 3   \n",
       "17917                                  Smash 'N' Survive     PlayStation 3   \n",
       "\n",
       "             Release_Date  Metascore  Userscore  \n",
       "497        August 9, 2004         90        NaN  \n",
       "924    September 20, 2004         88        NaN  \n",
       "1220      August 31, 2004         86        NaN  \n",
       "1410     December 5, 2002         86        NaN  \n",
       "2109    December 13, 2011         84        NaN  \n",
       "...                   ...        ...        ...  \n",
       "17817     January 8, 2008         35        NaN  \n",
       "17840      August 4, 2008         35        NaN  \n",
       "17900   November 13, 2007         32        NaN  \n",
       "17915   November 23, 2010         31        NaN  \n",
       "17917   February 22, 2012         31        NaN  \n",
       "\n",
       "[1277 rows x 5 columns]"
      ]
     },
     "execution_count": 316,
     "metadata": {},
     "output_type": "execute_result"
    }
   ],
   "source": [
    "# Replace 'tbd' values in ratings_data with np.nan and convert 'Userscore' variable to type float64\n",
    "ratings_data['Userscore'] = ratings_data['Userscore'].replace('tbd', np.nan).astype(float)\n",
    "print('Userscore type:', type(ratings_data['Userscore'][0]))\n",
    "ratings_data[ratings_data.isna().any(axis=1)]"
   ]
  },
  {
   "cell_type": "code",
   "execution_count": 317,
   "metadata": {},
   "outputs": [
    {
     "data": {
      "text/html": [
       "<div>\n",
       "<style scoped>\n",
       "    .dataframe tbody tr th:only-of-type {\n",
       "        vertical-align: middle;\n",
       "    }\n",
       "\n",
       "    .dataframe tbody tr th {\n",
       "        vertical-align: top;\n",
       "    }\n",
       "\n",
       "    .dataframe thead th {\n",
       "        text-align: right;\n",
       "    }\n",
       "</style>\n",
       "<table border=\"1\" class=\"dataframe\">\n",
       "  <thead>\n",
       "    <tr style=\"text-align: right;\">\n",
       "      <th></th>\n",
       "      <th>Name</th>\n",
       "      <th>Platform</th>\n",
       "      <th>Release_Date</th>\n",
       "      <th>Metascore</th>\n",
       "      <th>Userscore</th>\n",
       "      <th>Year</th>\n",
       "    </tr>\n",
       "  </thead>\n",
       "  <tbody>\n",
       "    <tr>\n",
       "      <th>0</th>\n",
       "      <td>The Legend of Zelda: Ocarina of Time</td>\n",
       "      <td>Nintendo 64</td>\n",
       "      <td>November 23, 1998</td>\n",
       "      <td>99</td>\n",
       "      <td>9.1</td>\n",
       "      <td>1998</td>\n",
       "    </tr>\n",
       "    <tr>\n",
       "      <th>1</th>\n",
       "      <td>Tony Hawk's Pro Skater 2</td>\n",
       "      <td>PlayStation</td>\n",
       "      <td>September 20, 2000</td>\n",
       "      <td>98</td>\n",
       "      <td>7.4</td>\n",
       "      <td>2000</td>\n",
       "    </tr>\n",
       "    <tr>\n",
       "      <th>2</th>\n",
       "      <td>Grand Theft Auto IV</td>\n",
       "      <td>PlayStation 3</td>\n",
       "      <td>April 29, 2008</td>\n",
       "      <td>98</td>\n",
       "      <td>7.6</td>\n",
       "      <td>2008</td>\n",
       "    </tr>\n",
       "    <tr>\n",
       "      <th>3</th>\n",
       "      <td>SoulCalibur</td>\n",
       "      <td>Dreamcast</td>\n",
       "      <td>September 8, 1999</td>\n",
       "      <td>98</td>\n",
       "      <td>8.5</td>\n",
       "      <td>1999</td>\n",
       "    </tr>\n",
       "    <tr>\n",
       "      <th>4</th>\n",
       "      <td>Grand Theft Auto IV</td>\n",
       "      <td>Xbox 360</td>\n",
       "      <td>April 29, 2008</td>\n",
       "      <td>98</td>\n",
       "      <td>7.9</td>\n",
       "      <td>2008</td>\n",
       "    </tr>\n",
       "  </tbody>\n",
       "</table>\n",
       "</div>"
      ],
      "text/plain": [
       "                                   Name       Platform        Release_Date  \\\n",
       "0  The Legend of Zelda: Ocarina of Time    Nintendo 64   November 23, 1998   \n",
       "1              Tony Hawk's Pro Skater 2    PlayStation  September 20, 2000   \n",
       "2                   Grand Theft Auto IV  PlayStation 3      April 29, 2008   \n",
       "3                           SoulCalibur      Dreamcast   September 8, 1999   \n",
       "4                   Grand Theft Auto IV       Xbox 360      April 29, 2008   \n",
       "\n",
       "   Metascore  Userscore  Year  \n",
       "0         99        9.1  1998  \n",
       "1         98        7.4  2000  \n",
       "2         98        7.6  2008  \n",
       "3         98        8.5  1999  \n",
       "4         98        7.9  2008  "
      ]
     },
     "execution_count": 317,
     "metadata": {},
     "output_type": "execute_result"
    }
   ],
   "source": [
    "# Create a new variable named 'Year' in the ratings_data from the 'Release_Date' variable\n",
    "ratings_data['Year'] = ratings_data['Release_Date'].map(lambda str: int(str.split()[2]))\n",
    "ratings_data.head()"
   ]
  },
  {
   "cell_type": "code",
   "execution_count": 318,
   "metadata": {},
   "outputs": [
    {
     "name": "stdout",
     "output_type": "stream",
     "text": [
      "<class 'pandas.core.frame.DataFrame'>\n",
      "Int64Index: 16732 entries, 0 to 18008\n",
      "Data columns (total 6 columns):\n",
      " #   Column        Non-Null Count  Dtype  \n",
      "---  ------        --------------  -----  \n",
      " 0   Name          16732 non-null  object \n",
      " 1   Platform      16732 non-null  object \n",
      " 2   Release_Date  16732 non-null  object \n",
      " 3   Metascore     16732 non-null  int64  \n",
      " 4   Userscore     16732 non-null  float64\n",
      " 5   Year          16732 non-null  int64  \n",
      "dtypes: float64(1), int64(2), object(3)\n",
      "memory usage: 915.0+ KB\n"
     ]
    }
   ],
   "source": [
    "# Drop missing values from variable 'Userscore' in ratings_data\n",
    "ratings_data = ratings_data.dropna()\n",
    "ratings_data.info()"
   ]
  },
  {
   "cell_type": "code",
   "execution_count": 319,
   "metadata": {},
   "outputs": [],
   "source": [
    "# Lowercase variable 'Name' on both datasets\n",
    "sales_data['Name'] = sales_data['Name'].str.lower()\n",
    "ratings_data['Name'] = ratings_data['Name'].str.lower()"
   ]
  },
  {
   "cell_type": "code",
   "execution_count": 320,
   "metadata": {},
   "outputs": [
    {
     "data": {
      "text/html": [
       "<div>\n",
       "<style scoped>\n",
       "    .dataframe tbody tr th:only-of-type {\n",
       "        vertical-align: middle;\n",
       "    }\n",
       "\n",
       "    .dataframe tbody tr th {\n",
       "        vertical-align: top;\n",
       "    }\n",
       "\n",
       "    .dataframe thead th {\n",
       "        text-align: right;\n",
       "    }\n",
       "</style>\n",
       "<table border=\"1\" class=\"dataframe\">\n",
       "  <thead>\n",
       "    <tr style=\"text-align: right;\">\n",
       "      <th></th>\n",
       "      <th>Name</th>\n",
       "      <th>Platform</th>\n",
       "      <th>Genre</th>\n",
       "      <th>Publisher</th>\n",
       "      <th>NA_Sales</th>\n",
       "      <th>EU_Sales</th>\n",
       "      <th>JP_Sales</th>\n",
       "      <th>Other_Sales</th>\n",
       "      <th>Global_Sales</th>\n",
       "      <th>Release_Date</th>\n",
       "      <th>Metascore</th>\n",
       "      <th>Userscore</th>\n",
       "    </tr>\n",
       "  </thead>\n",
       "  <tbody>\n",
       "    <tr>\n",
       "      <th>0</th>\n",
       "      <td>Wii Sports</td>\n",
       "      <td>Wii</td>\n",
       "      <td>Sports</td>\n",
       "      <td>Nintendo</td>\n",
       "      <td>41.49</td>\n",
       "      <td>29.02</td>\n",
       "      <td>3.77</td>\n",
       "      <td>8.46</td>\n",
       "      <td>82.74</td>\n",
       "      <td>November 19, 2006</td>\n",
       "      <td>76</td>\n",
       "      <td>8.0</td>\n",
       "    </tr>\n",
       "    <tr>\n",
       "      <th>1</th>\n",
       "      <td>Mario Kart Wii</td>\n",
       "      <td>Wii</td>\n",
       "      <td>Racing</td>\n",
       "      <td>Nintendo</td>\n",
       "      <td>15.85</td>\n",
       "      <td>12.88</td>\n",
       "      <td>3.79</td>\n",
       "      <td>3.31</td>\n",
       "      <td>35.82</td>\n",
       "      <td>April 27, 2008</td>\n",
       "      <td>82</td>\n",
       "      <td>8.4</td>\n",
       "    </tr>\n",
       "    <tr>\n",
       "      <th>2</th>\n",
       "      <td>Wii Sports Resort</td>\n",
       "      <td>Wii</td>\n",
       "      <td>Sports</td>\n",
       "      <td>Nintendo</td>\n",
       "      <td>15.75</td>\n",
       "      <td>11.01</td>\n",
       "      <td>3.28</td>\n",
       "      <td>2.96</td>\n",
       "      <td>33.00</td>\n",
       "      <td>July 26, 2009</td>\n",
       "      <td>80</td>\n",
       "      <td>8.1</td>\n",
       "    </tr>\n",
       "    <tr>\n",
       "      <th>3</th>\n",
       "      <td>New Super Mario Bros.</td>\n",
       "      <td>DS</td>\n",
       "      <td>Platform</td>\n",
       "      <td>Nintendo</td>\n",
       "      <td>11.38</td>\n",
       "      <td>9.23</td>\n",
       "      <td>6.50</td>\n",
       "      <td>2.90</td>\n",
       "      <td>30.01</td>\n",
       "      <td>May 15, 2006</td>\n",
       "      <td>89</td>\n",
       "      <td>8.5</td>\n",
       "    </tr>\n",
       "    <tr>\n",
       "      <th>4</th>\n",
       "      <td>New Super Mario Bros. Wii</td>\n",
       "      <td>Wii</td>\n",
       "      <td>Platform</td>\n",
       "      <td>Nintendo</td>\n",
       "      <td>14.59</td>\n",
       "      <td>7.06</td>\n",
       "      <td>4.70</td>\n",
       "      <td>2.26</td>\n",
       "      <td>28.62</td>\n",
       "      <td>November 15, 2009</td>\n",
       "      <td>87</td>\n",
       "      <td>8.3</td>\n",
       "    </tr>\n",
       "  </tbody>\n",
       "</table>\n",
       "</div>"
      ],
      "text/plain": [
       "                        Name Platform     Genre Publisher  NA_Sales  EU_Sales  \\\n",
       "0                 Wii Sports      Wii    Sports  Nintendo     41.49     29.02   \n",
       "1             Mario Kart Wii      Wii    Racing  Nintendo     15.85     12.88   \n",
       "2          Wii Sports Resort      Wii    Sports  Nintendo     15.75     11.01   \n",
       "3      New Super Mario Bros.       DS  Platform  Nintendo     11.38      9.23   \n",
       "4  New Super Mario Bros. Wii      Wii  Platform  Nintendo     14.59      7.06   \n",
       "\n",
       "   JP_Sales  Other_Sales  Global_Sales       Release_Date  Metascore  \\\n",
       "0      3.77         8.46         82.74  November 19, 2006         76   \n",
       "1      3.79         3.31         35.82     April 27, 2008         82   \n",
       "2      3.28         2.96         33.00      July 26, 2009         80   \n",
       "3      6.50         2.90         30.01       May 15, 2006         89   \n",
       "4      4.70         2.26         28.62  November 15, 2009         87   \n",
       "\n",
       "   Userscore  \n",
       "0        8.0  \n",
       "1        8.4  \n",
       "2        8.1  \n",
       "3        8.5  \n",
       "4        8.3  "
      ]
     },
     "execution_count": 320,
     "metadata": {},
     "output_type": "execute_result"
    }
   ],
   "source": [
    "# Merge both datasets into one using 'Name', 'Platform' and 'Year' and drop 'Year'\n",
    "data = pd.merge(sales_data, ratings_data, how=\"inner\", on=['Name', 'Platform', 'Year'])\n",
    "data = data.drop(columns=['Year'])\n",
    "data['Name'] = data['Name'].map(lambda str: str.title()) # For ecstatic\n",
    "data.head()"
   ]
  },
  {
   "cell_type": "code",
   "execution_count": 321,
   "metadata": {},
   "outputs": [
    {
     "name": "stdout",
     "output_type": "stream",
     "text": [
      "Unique seasons: ['Autumn' 'Spring' 'Summer' 'Winter']\n",
      "Unique season numbers: [2 0 1 3]\n"
     ]
    }
   ],
   "source": [
    "# Create two new variables named 'Season' and 'Season_Number' in the merged dataset\n",
    "def get_season(str):\n",
    "    if (str == 'March' or str == 'April' or str == 'May'):\n",
    "        return 'Spring'\n",
    "    elif (str == 'June' or str == 'July' or str == 'August'):\n",
    "        return 'Summer'\n",
    "    elif (str == 'September' or str == 'October' or str == 'November'):\n",
    "        return 'Autumn'\n",
    "    elif (str == 'December' or str == 'January' or str == 'February'):\n",
    "        return 'Winter'\n",
    "    else:\n",
    "        return 'Other'\n",
    "    \n",
    "data['Season'] = data['Release_Date'].map(lambda x: get_season(x.split()[0]))\n",
    "print('Unique seasons:', data['Season'].unique()) # Verify we didn't get 'Other'\n",
    "\n",
    "seasons_key = {\n",
    "    \"Spring\": 0,\n",
    "    \"Summer\": 1,\n",
    "    \"Autumn\": 2,\n",
    "    \"Winter\": 3,\n",
    "}\n",
    "\n",
    "data['Season_Number'] = data['Season'].map(seasons_key)\n",
    "print('Unique season numbers:', data['Season_Number'].unique()) # Verify we only got 0-3"
   ]
  },
  {
   "cell_type": "code",
   "execution_count": 322,
   "metadata": {},
   "outputs": [
    {
     "name": "stdout",
     "output_type": "stream",
     "text": [
      "<class 'pandas.core.frame.DataFrame'>\n",
      "Int64Index: 5733 entries, 0 to 5732\n",
      "Data columns (total 14 columns):\n",
      " #   Column         Non-Null Count  Dtype  \n",
      "---  ------         --------------  -----  \n",
      " 0   Name           5733 non-null   object \n",
      " 1   Platform       5733 non-null   object \n",
      " 2   Genre          5733 non-null   object \n",
      " 3   Publisher      5733 non-null   object \n",
      " 4   NA_Sales       5733 non-null   float64\n",
      " 5   EU_Sales       5733 non-null   float64\n",
      " 6   JP_Sales       5733 non-null   float64\n",
      " 7   Other_Sales    5733 non-null   float64\n",
      " 8   Global_Sales   5733 non-null   float64\n",
      " 9   Release_Date   5733 non-null   object \n",
      " 10  Metascore      5733 non-null   int64  \n",
      " 11  Userscore      5733 non-null   float64\n",
      " 12  Season         5733 non-null   object \n",
      " 13  Season_Number  5733 non-null   int64  \n",
      "dtypes: float64(6), int64(2), object(6)\n",
      "memory usage: 671.8+ KB\n"
     ]
    }
   ],
   "source": [
    "# Explore the merged dataset\n",
    "data.info()"
   ]
  },
  {
   "cell_type": "code",
   "execution_count": 323,
   "metadata": {},
   "outputs": [
    {
     "data": {
      "text/html": [
       "<div>\n",
       "<style scoped>\n",
       "    .dataframe tbody tr th:only-of-type {\n",
       "        vertical-align: middle;\n",
       "    }\n",
       "\n",
       "    .dataframe tbody tr th {\n",
       "        vertical-align: top;\n",
       "    }\n",
       "\n",
       "    .dataframe thead th {\n",
       "        text-align: right;\n",
       "    }\n",
       "</style>\n",
       "<table border=\"1\" class=\"dataframe\">\n",
       "  <thead>\n",
       "    <tr style=\"text-align: right;\">\n",
       "      <th></th>\n",
       "      <th>Name</th>\n",
       "      <th>Platform</th>\n",
       "      <th>Genre</th>\n",
       "      <th>Publisher</th>\n",
       "      <th>NA_Sales</th>\n",
       "      <th>EU_Sales</th>\n",
       "      <th>JP_Sales</th>\n",
       "      <th>Other_Sales</th>\n",
       "      <th>Global_Sales</th>\n",
       "      <th>Release_Date</th>\n",
       "      <th>Metascore</th>\n",
       "      <th>Userscore</th>\n",
       "      <th>Season</th>\n",
       "      <th>Season_Number</th>\n",
       "    </tr>\n",
       "  </thead>\n",
       "  <tbody>\n",
       "    <tr>\n",
       "      <th>count</th>\n",
       "      <td>5733</td>\n",
       "      <td>5733</td>\n",
       "      <td>5733</td>\n",
       "      <td>5733</td>\n",
       "      <td>5733.000000</td>\n",
       "      <td>5733.000000</td>\n",
       "      <td>5733.000000</td>\n",
       "      <td>5733.000000</td>\n",
       "      <td>5733.000000</td>\n",
       "      <td>5733</td>\n",
       "      <td>5733.000000</td>\n",
       "      <td>5733.000000</td>\n",
       "      <td>5733</td>\n",
       "      <td>5733.000000</td>\n",
       "    </tr>\n",
       "    <tr>\n",
       "      <th>unique</th>\n",
       "      <td>3614</td>\n",
       "      <td>18</td>\n",
       "      <td>12</td>\n",
       "      <td>215</td>\n",
       "      <td>NaN</td>\n",
       "      <td>NaN</td>\n",
       "      <td>NaN</td>\n",
       "      <td>NaN</td>\n",
       "      <td>NaN</td>\n",
       "      <td>1772</td>\n",
       "      <td>NaN</td>\n",
       "      <td>NaN</td>\n",
       "      <td>4</td>\n",
       "      <td>NaN</td>\n",
       "    </tr>\n",
       "    <tr>\n",
       "      <th>top</th>\n",
       "      <td>The Sims 2</td>\n",
       "      <td>PlayStation 2</td>\n",
       "      <td>Action</td>\n",
       "      <td>Electronic Arts</td>\n",
       "      <td>NaN</td>\n",
       "      <td>NaN</td>\n",
       "      <td>NaN</td>\n",
       "      <td>NaN</td>\n",
       "      <td>NaN</td>\n",
       "      <td>November 14, 2006</td>\n",
       "      <td>NaN</td>\n",
       "      <td>NaN</td>\n",
       "      <td>Autumn</td>\n",
       "      <td>NaN</td>\n",
       "    </tr>\n",
       "    <tr>\n",
       "      <th>freq</th>\n",
       "      <td>7</td>\n",
       "      <td>931</td>\n",
       "      <td>1387</td>\n",
       "      <td>837</td>\n",
       "      <td>NaN</td>\n",
       "      <td>NaN</td>\n",
       "      <td>NaN</td>\n",
       "      <td>NaN</td>\n",
       "      <td>NaN</td>\n",
       "      <td>29</td>\n",
       "      <td>NaN</td>\n",
       "      <td>NaN</td>\n",
       "      <td>2841</td>\n",
       "      <td>NaN</td>\n",
       "    </tr>\n",
       "    <tr>\n",
       "      <th>mean</th>\n",
       "      <td>NaN</td>\n",
       "      <td>NaN</td>\n",
       "      <td>NaN</td>\n",
       "      <td>NaN</td>\n",
       "      <td>0.431366</td>\n",
       "      <td>0.255125</td>\n",
       "      <td>0.051877</td>\n",
       "      <td>0.086984</td>\n",
       "      <td>0.825575</td>\n",
       "      <td>NaN</td>\n",
       "      <td>71.113553</td>\n",
       "      <td>7.185086</td>\n",
       "      <td>NaN</td>\n",
       "      <td>1.534450</td>\n",
       "    </tr>\n",
       "    <tr>\n",
       "      <th>std</th>\n",
       "      <td>NaN</td>\n",
       "      <td>NaN</td>\n",
       "      <td>NaN</td>\n",
       "      <td>NaN</td>\n",
       "      <td>1.028085</td>\n",
       "      <td>0.709980</td>\n",
       "      <td>0.250638</td>\n",
       "      <td>0.267003</td>\n",
       "      <td>2.038636</td>\n",
       "      <td>NaN</td>\n",
       "      <td>13.522610</td>\n",
       "      <td>1.335299</td>\n",
       "      <td>NaN</td>\n",
       "      <td>0.946257</td>\n",
       "    </tr>\n",
       "    <tr>\n",
       "      <th>min</th>\n",
       "      <td>NaN</td>\n",
       "      <td>NaN</td>\n",
       "      <td>NaN</td>\n",
       "      <td>NaN</td>\n",
       "      <td>0.000000</td>\n",
       "      <td>0.000000</td>\n",
       "      <td>0.000000</td>\n",
       "      <td>0.000000</td>\n",
       "      <td>0.010000</td>\n",
       "      <td>NaN</td>\n",
       "      <td>17.000000</td>\n",
       "      <td>1.300000</td>\n",
       "      <td>NaN</td>\n",
       "      <td>0.000000</td>\n",
       "    </tr>\n",
       "    <tr>\n",
       "      <th>25%</th>\n",
       "      <td>NaN</td>\n",
       "      <td>NaN</td>\n",
       "      <td>NaN</td>\n",
       "      <td>NaN</td>\n",
       "      <td>0.070000</td>\n",
       "      <td>0.020000</td>\n",
       "      <td>0.000000</td>\n",
       "      <td>0.010000</td>\n",
       "      <td>0.120000</td>\n",
       "      <td>NaN</td>\n",
       "      <td>63.000000</td>\n",
       "      <td>6.500000</td>\n",
       "      <td>NaN</td>\n",
       "      <td>1.000000</td>\n",
       "    </tr>\n",
       "    <tr>\n",
       "      <th>50%</th>\n",
       "      <td>NaN</td>\n",
       "      <td>NaN</td>\n",
       "      <td>NaN</td>\n",
       "      <td>NaN</td>\n",
       "      <td>0.170000</td>\n",
       "      <td>0.070000</td>\n",
       "      <td>0.000000</td>\n",
       "      <td>0.020000</td>\n",
       "      <td>0.320000</td>\n",
       "      <td>NaN</td>\n",
       "      <td>73.000000</td>\n",
       "      <td>7.500000</td>\n",
       "      <td>NaN</td>\n",
       "      <td>2.000000</td>\n",
       "    </tr>\n",
       "    <tr>\n",
       "      <th>75%</th>\n",
       "      <td>NaN</td>\n",
       "      <td>NaN</td>\n",
       "      <td>NaN</td>\n",
       "      <td>NaN</td>\n",
       "      <td>0.430000</td>\n",
       "      <td>0.230000</td>\n",
       "      <td>0.010000</td>\n",
       "      <td>0.080000</td>\n",
       "      <td>0.820000</td>\n",
       "      <td>NaN</td>\n",
       "      <td>81.000000</td>\n",
       "      <td>8.100000</td>\n",
       "      <td>NaN</td>\n",
       "      <td>2.000000</td>\n",
       "    </tr>\n",
       "    <tr>\n",
       "      <th>max</th>\n",
       "      <td>NaN</td>\n",
       "      <td>NaN</td>\n",
       "      <td>NaN</td>\n",
       "      <td>NaN</td>\n",
       "      <td>41.490000</td>\n",
       "      <td>29.020000</td>\n",
       "      <td>6.500000</td>\n",
       "      <td>10.570000</td>\n",
       "      <td>82.740000</td>\n",
       "      <td>NaN</td>\n",
       "      <td>99.000000</td>\n",
       "      <td>9.800000</td>\n",
       "      <td>NaN</td>\n",
       "      <td>3.000000</td>\n",
       "    </tr>\n",
       "  </tbody>\n",
       "</table>\n",
       "</div>"
      ],
      "text/plain": [
       "              Name       Platform   Genre        Publisher     NA_Sales  \\\n",
       "count         5733           5733    5733             5733  5733.000000   \n",
       "unique        3614             18      12              215          NaN   \n",
       "top     The Sims 2  PlayStation 2  Action  Electronic Arts          NaN   \n",
       "freq             7            931    1387              837          NaN   \n",
       "mean           NaN            NaN     NaN              NaN     0.431366   \n",
       "std            NaN            NaN     NaN              NaN     1.028085   \n",
       "min            NaN            NaN     NaN              NaN     0.000000   \n",
       "25%            NaN            NaN     NaN              NaN     0.070000   \n",
       "50%            NaN            NaN     NaN              NaN     0.170000   \n",
       "75%            NaN            NaN     NaN              NaN     0.430000   \n",
       "max            NaN            NaN     NaN              NaN    41.490000   \n",
       "\n",
       "           EU_Sales     JP_Sales  Other_Sales  Global_Sales  \\\n",
       "count   5733.000000  5733.000000  5733.000000   5733.000000   \n",
       "unique          NaN          NaN          NaN           NaN   \n",
       "top             NaN          NaN          NaN           NaN   \n",
       "freq            NaN          NaN          NaN           NaN   \n",
       "mean       0.255125     0.051877     0.086984      0.825575   \n",
       "std        0.709980     0.250638     0.267003      2.038636   \n",
       "min        0.000000     0.000000     0.000000      0.010000   \n",
       "25%        0.020000     0.000000     0.010000      0.120000   \n",
       "50%        0.070000     0.000000     0.020000      0.320000   \n",
       "75%        0.230000     0.010000     0.080000      0.820000   \n",
       "max       29.020000     6.500000    10.570000     82.740000   \n",
       "\n",
       "             Release_Date    Metascore    Userscore  Season  Season_Number  \n",
       "count                5733  5733.000000  5733.000000    5733    5733.000000  \n",
       "unique               1772          NaN          NaN       4            NaN  \n",
       "top     November 14, 2006          NaN          NaN  Autumn            NaN  \n",
       "freq                   29          NaN          NaN    2841            NaN  \n",
       "mean                  NaN    71.113553     7.185086     NaN       1.534450  \n",
       "std                   NaN    13.522610     1.335299     NaN       0.946257  \n",
       "min                   NaN    17.000000     1.300000     NaN       0.000000  \n",
       "25%                   NaN    63.000000     6.500000     NaN       1.000000  \n",
       "50%                   NaN    73.000000     7.500000     NaN       2.000000  \n",
       "75%                   NaN    81.000000     8.100000     NaN       2.000000  \n",
       "max                   NaN    99.000000     9.800000     NaN       3.000000  "
      ]
     },
     "execution_count": 323,
     "metadata": {},
     "output_type": "execute_result"
    }
   ],
   "source": [
    "# Explore the merged dataset (continued)\n",
    "data.describe(include=\"all\")"
   ]
  },
  {
   "cell_type": "code",
   "execution_count": 325,
   "metadata": {},
   "outputs": [
    {
     "name": "stdout",
     "output_type": "stream",
     "text": [
      "Spring mean of NA_Sales: 0.34773471145564\n",
      "Spring mean of EU_Sales: 0.21390180878552978\n",
      "Spring mean of JP_Sales: 0.050378983634797626\n",
      "Spring mean of Other_Sales: 0.07100775193798539\n",
      "Spring mean of Global_Sales: 0.6834366925064586\n",
      "Spring Statistics =96.749, Spring p value =0.0000000000\n",
      "Different distributions (reject null)\n"
     ]
    }
   ],
   "source": [
    "#4 Compute the mean for sales in the spring season\n",
    "\n",
    "#Spring NA sales\n",
    "na_spring = data.loc[data['Season_Number'].isin([\"0\"]), 'NA_Sales'].mean()\n",
    "print(\"Spring mean of NA_Sales:\",na_spring)\n",
    "\n",
    "#Spring EU sales\n",
    "eu_spring = data.loc[data['Season_Number'].isin([\"0\"]), 'EU_Sales'].mean()\n",
    "print(\"Spring mean of EU_Sales:\",eu_spring)\n",
    "\n",
    "#Spring JP sales\n",
    "jp_spring = data.loc[data['Season_Number'].isin([\"0\"]), 'JP_Sales'].mean()\n",
    "print(\"Spring mean of JP_Sales:\",jp_spring)\n",
    "\n",
    "#Spring Other sales\n",
    "oth_spring = data.loc[data['Season_Number'].isin([\"0\"]), 'Other_Sales'].mean()\n",
    "print(\"Spring mean of Other_Sales:\",oth_spring)\n",
    "\n",
    "#Spring Global sales\n",
    "glo_spring = data.loc[data['Season_Number'].isin([\"0\"]), 'Global_Sales'].mean()\n",
    "print(\"Spring mean of Global_Sales:\",glo_spring)\n",
    "\n",
    "na_spring2 = data.loc[data['Season_Number'].isin([\"0\"]), 'NA_Sales']\n",
    "eu_spring2 = data.loc[data['Season_Number'].isin([\"0\"]), 'EU_Sales']\n",
    "jp_spring2 = data.loc[data['Season_Number'].isin([\"0\"]), 'JP_Sales']\n",
    "oth_spring2 = data.loc[data['Season_Number'].isin([\"0\"]), 'Other_Sales']\n",
    "glo_spring2 = data.loc[data['Season_Number'].isin([\"0\"]), 'Global_Sales']\n",
    "\n",
    "#Perform a hypothesis test to determine whether this difference is statistically significant at the 𝜶 = 𝟎.𝟎𝟓 significance level.\n",
    "spring_stat, p_spring = f_oneway(na_spring2 , eu_spring2 , jp_spring2, oth_spring2 , glo_spring2)\n",
    "print('Spring Statistics =%.3f, Spring p value =%.10f' % (spring_stat, p_spring))\n",
    "\n",
    "a = 0.05\n",
    "if p_spring > a:\n",
    "    print('Same distributions (fail to reject null)')\n",
    "else:\n",
    "    print('Different distributions (reject null)')\n"
   ]
  },
  {
   "cell_type": "code",
   "execution_count": 326,
   "metadata": {},
   "outputs": [
    {
     "name": "stdout",
     "output_type": "stream",
     "text": [
      "Summer mean of NA_Sales: 0.379971126082771\n",
      "Summer mean of EU_Sales: 0.1739557266602502\n",
      "Summer mean of JP_Sales: 0.03943214629451397\n",
      "Summer mean of Other_Sales: 0.06118383060635219\n",
      "Summer mean of Global_Sales: 0.6546775745909503\n",
      "Summer Statistics =112.122, Summer p value =0.0000000000\n",
      "Different distributions (reject null)\n"
     ]
    }
   ],
   "source": [
    "#4 Compute the mean for sales in the summer season\n",
    "\n",
    "# Compute summer NA sales\n",
    "na_summer = data.loc[data['Season_Number'].isin([\"1\"]), 'NA_Sales'].mean()\n",
    "print(\"Summer mean of NA_Sales:\",na_summer)\n",
    "\n",
    "#Computer summer EU sales\n",
    "eu_summer = data.loc[data['Season_Number'].isin([\"1\"]), 'EU_Sales'].mean()\n",
    "print(\"Summer mean of EU_Sales:\",eu_summer)\n",
    "\n",
    "#Compute summer JP sales\n",
    "jp_summer = data.loc[data['Season_Number'].isin([\"1\"]), 'JP_Sales'].mean()\n",
    "print(\"Summer mean of JP_Sales:\",jp_summer)\n",
    "\n",
    "#Compute summer Other sales\n",
    "oth_summer = data.loc[data['Season_Number'].isin([\"1\"]), 'Other_Sales'].mean()\n",
    "print(\"Summer mean of Other_Sales:\",oth_summer)\n",
    "\n",
    "\n",
    "#Compute summer Global sales\n",
    "glo_summer = data.loc[data['Season_Number'].isin([\"1\"]), 'Global_Sales'].mean()\n",
    "print(\"Summer mean of Global_Sales:\",glo_summer)\n",
    "\n",
    "na_summer2 = data.loc[data['Season_Number'].isin([\"1\"]), 'NA_Sales']\n",
    "eu_summer2 = data.loc[data['Season_Number'].isin([\"1\"]), 'EU_Sales']\n",
    "jp_summer2 = data.loc[data['Season_Number'].isin([\"1\"]), 'JP_Sales']\n",
    "oth_summer2 = data.loc[data['Season_Number'].isin([\"1\"]), 'Other_Sales']\n",
    "glo_summer2 = data.loc[data['Season_Number'].isin([\"1\"]), 'Global_Sales']\n",
    "\n",
    "#Perform a hypothesis test to determine whether this difference is statistically significant at the 𝜶 = 𝟎.𝟎𝟓 significance level.\n",
    "summer_stat, p_summer = f_oneway(na_summer2 , eu_summer2 , jp_summer2, oth_summer2 , glo_summer2)\n",
    "print('Summer Statistics =%.3f, Summer p value =%.10f' % (summer_stat, p_summer))\n",
    "\n",
    "a = 0.05\n",
    "if p_summer > a:\n",
    "    print('Same distributions (fail to reject null)')\n",
    "else:\n",
    "    print('Different distributions (reject null)')"
   ]
  },
  {
   "cell_type": "code",
   "execution_count": 327,
   "metadata": {},
   "outputs": [
    {
     "name": "stdout",
     "output_type": "stream",
     "text": [
      "Autumn mean of NA_Sales: 0.5144139387539517\n",
      "Autumn mean of EU_Sales: 0.3199999999999944\n",
      "Autumn mean of JP_Sales: 0.05778247096092911\n",
      "Autumn mean of Other_Sales: 0.10954593453009044\n",
      "Autumn mean of Global_Sales: 1.00194649771208\n",
      "Autumn Statistics =241.236, Autumn p value =0.0000000000\n",
      "Different distributions (reject null)\n"
     ]
    }
   ],
   "source": [
    "#4 Compute the mean for sales in the autumn season\n",
    "\n",
    "# Compute autumn NA sales\n",
    "na_autumn = data.loc[data['Season_Number'].isin([\"2\"]), 'NA_Sales'].mean()\n",
    "print(\"Autumn mean of NA_Sales:\",na_autumn)\n",
    "\n",
    "#Compute autumn EU sales\n",
    "eu_autumn = data.loc[data['Season_Number'].isin([\"2\"]), 'EU_Sales'].mean()\n",
    "print(\"Autumn mean of EU_Sales:\",eu_autumn)\n",
    "\n",
    "#Compute autumn JP sales\n",
    "jp_autumn = data.loc[data['Season_Number'].isin([\"2\"]), 'JP_Sales'].mean()\n",
    "print(\"Autumn mean of JP_Sales:\",jp_autumn)\n",
    "\n",
    "#Compute autumn Other sales\n",
    "oth_autumn = data.loc[data['Season_Number'].isin([\"2\"]), 'Other_Sales'].mean()\n",
    "print(\"Autumn mean of Other_Sales:\",oth_autumn)\n",
    "\n",
    "\n",
    "#Compute autumn Global sales\n",
    "glo_autumn = data.loc[data['Season_Number'].isin([\"2\"]), 'Global_Sales'].mean()\n",
    "print(\"Autumn mean of Global_Sales:\",glo_autumn)\n",
    "\n",
    "na_autumn2 = data.loc[data['Season_Number'].isin([\"2\"]), 'NA_Sales']\n",
    "eu_autumn2 = data.loc[data['Season_Number'].isin([\"2\"]), 'EU_Sales']\n",
    "jp_autumn2 = data.loc[data['Season_Number'].isin([\"2\"]), 'JP_Sales']\n",
    "oth_autumn2 = data.loc[data['Season_Number'].isin([\"2\"]), 'Other_Sales']\n",
    "glo_autumn2 = data.loc[data['Season_Number'].isin([\"2\"]), 'Global_Sales']\n",
    "\n",
    "#Perform a hypothesis test to determine whether this difference is statistically significant at the 𝜶 = 𝟎.𝟎𝟓 significance level.\n",
    "autumn_stat, p_autumn = f_oneway(na_autumn2 , eu_autumn2 , jp_autumn2, oth_autumn2 , glo_autumn2)\n",
    "print('Autumn Statistics =%.3f, Autumn p value =%.10f' % (autumn_stat, p_autumn))\n",
    "\n",
    "a = 0.05\n",
    "if p_autumn > a:\n",
    "    print('Same distributions (fail to reject null)')\n",
    "else:\n",
    "    print('Different distributions (reject null)')"
   ]
  },
  {
   "cell_type": "code",
   "execution_count": 328,
   "metadata": {},
   "outputs": [
    {
     "name": "stdout",
     "output_type": "stream",
     "text": [
      "Winter mean of NA_Sales: 0.30789017341040487\n",
      "Winter mean of EU_Sales: 0.17981213872832416\n",
      "Winter mean of JP_Sales: 0.048829479768786196\n",
      "Winter mean of Other_Sales: 0.05989884393063566\n",
      "Winter mean of Global_Sales: 0.5965462427745645\n",
      "Winter Statistics =116.492, Winter p value =0.0000000000\n",
      "Different distributions (reject null)\n"
     ]
    }
   ],
   "source": [
    "#4 Compute the mean for sales in the winter season\n",
    "\n",
    "# Compute winter NA sales\n",
    "na_winter = data.loc[data['Season_Number'].isin([\"3\"]), 'NA_Sales'].mean()\n",
    "print(\"Winter mean of NA_Sales:\",na_winter)\n",
    "\n",
    "#Compute winter EU sales\n",
    "eu_winter = data.loc[data['Season_Number'].isin([\"3\"]), 'EU_Sales'].mean()\n",
    "print(\"Winter mean of EU_Sales:\",eu_winter)\n",
    "\n",
    "#Compute winter JP sales\n",
    "jp_winter = data.loc[data['Season_Number'].isin([\"3\"]), 'JP_Sales'].mean()\n",
    "print(\"Winter mean of JP_Sales:\",jp_winter)\n",
    "\n",
    "#Compute winter Other sales\n",
    "oth_winter = data.loc[data['Season_Number'].isin([\"3\"]), 'Other_Sales'].mean()\n",
    "print(\"Winter mean of Other_Sales:\",oth_winter)\n",
    "\n",
    "\n",
    "#Computer winter Global sales\n",
    "glo_winter = data.loc[data['Season_Number'].isin([\"3\"]), 'Global_Sales'].mean()\n",
    "print(\"Winter mean of Global_Sales:\",glo_winter)\n",
    "\n",
    "na_winter2 = data.loc[data['Season_Number'].isin([\"3\"]), 'NA_Sales']\n",
    "eu_winter2 = data.loc[data['Season_Number'].isin([\"3\"]), 'EU_Sales']\n",
    "jp_winter2 = data.loc[data['Season_Number'].isin([\"3\"]), 'JP_Sales']\n",
    "oth_winter2 = data.loc[data['Season_Number'].isin([\"3\"]), 'Other_Sales']\n",
    "glo_winter2 = data.loc[data['Season_Number'].isin([\"3\"]), 'Global_Sales']\n",
    "\n",
    "#Perform a hypothesis test to determine whether this difference is statistically significant at the 𝜶 = 𝟎.𝟎𝟓 significance level.\n",
    "winter_stat, p_winter = f_oneway(na_winter2 , eu_winter2 , jp_winter2, oth_winter2 , glo_winter2)\n",
    "print('Winter Statistics =%.3f, Winter p value =%.10f' % (winter_stat, p_winter))\n",
    "\n",
    "a = 0.05\n",
    "if p_winter > a:\n",
    "    print('Same distributions (fail to reject null)')\n",
    "else:\n",
    "    print('Different distributions (reject null)')\n"
   ]
  },
  {
   "cell_type": "code",
   "execution_count": 329,
   "metadata": {},
   "outputs": [
    {
     "name": "stdout",
     "output_type": "stream",
     "text": [
      "Spring mean of metascore: 70.64599483204134\n",
      "Summer mean of metascore: 70.2752646775746\n",
      "Autumn mean of metascore: 71.79584653291094\n",
      "Winter mean of metascore: 70.35549132947978\n",
      "Metascore Statistics =4.940, Metascore p value =0.0019951256\n",
      "Different distributions (reject null)\n"
     ]
    }
   ],
   "source": [
    "#4 Compute the mean for metascore in all of the seasons\n",
    "\n",
    "#Spring metascore\n",
    "spring_meta = data.loc[data['Season_Number'].isin([\"0\"]), 'Metascore'].mean()\n",
    "print(\"Spring mean of metascore:\",spring_meta)\n",
    "\n",
    "#Summer metascore\n",
    "summer_meta = data.loc[data['Season_Number'].isin([\"1\"]), 'Metascore'].mean()\n",
    "print(\"Summer mean of metascore:\",summer_meta)\n",
    "\n",
    "#Autumn metascore\n",
    "autumn_meta = data.loc[data['Season_Number'].isin([\"2\"]), 'Metascore'].mean()\n",
    "print(\"Autumn mean of metascore:\",autumn_meta)\n",
    "\n",
    "#Winter metascore\n",
    "winter_meta = data.loc[data['Season_Number'].isin([\"3\"]), 'Metascore'].mean()\n",
    "print(\"Winter mean of metascore:\",winter_meta)\n",
    "\n",
    "spring_meta2 = data.loc[data['Season_Number'].isin([\"0\"]), 'Metascore']\n",
    "summer_meta2 = data.loc[data['Season_Number'].isin([\"1\"]), 'Metascore']\n",
    "autumn_meta2 = data.loc[data['Season_Number'].isin([\"2\"]), 'Metascore']\n",
    "winter_meta2 = data.loc[data['Season_Number'].isin([\"3\"]), 'Metascore']\n",
    "\n",
    "#Perform a hypothesis test to determine whether this difference is statistically significant at the 𝜶 = 𝟎.𝟎𝟓 significance level.\n",
    "meta_stat, p_meta = f_oneway(spring_meta2 , summer_meta2 , autumn_meta2 , winter_meta2)\n",
    "print('Metascore Statistics =%.3f, Metascore p value =%.10f' % (meta_stat, p_meta))\n",
    "\n",
    "a = 0.05\n",
    "if p_meta > a:\n",
    "    print('Same distributions (fail to reject null)')\n",
    "else:\n",
    "    print('Different distributions (reject null)')\n"
   ]
  },
  {
   "cell_type": "code",
   "execution_count": 330,
   "metadata": {},
   "outputs": [
    {
     "name": "stdout",
     "output_type": "stream",
     "text": [
      "Spring mean of userscore: 7.157105943152471\n",
      "Summer mean of userscore: 7.112897016361882\n",
      "Autumn mean of userscore: 7.213586765223489\n",
      "Winter mean of userscore: 7.223410404624274\n",
      "Userscore Statistics =1.804, Userscore p value =0.1440623382\n",
      "Same distributions (fail to reject null)\n"
     ]
    }
   ],
   "source": [
    "#4 Compute the mean for userscore in all of the seasons\n",
    "\n",
    "#Spring userscore\n",
    "spring_user = data.loc[data['Season_Number'].isin([\"0\"]), 'Userscore'].mean()\n",
    "print(\"Spring mean of userscore:\",spring_user)\n",
    "\n",
    "#Summer userscore\n",
    "summer_user = data.loc[data['Season_Number'].isin([\"1\"]), 'Userscore'].mean()\n",
    "print(\"Summer mean of userscore:\",summer_user)\n",
    "\n",
    "#Autumn userscore\n",
    "autumn_user = data.loc[data['Season_Number'].isin([\"2\"]), 'Userscore'].mean()\n",
    "print(\"Autumn mean of userscore:\",autumn_user)\n",
    "\n",
    "#Winter userscore\n",
    "winter_user = data.loc[data['Season_Number'].isin([\"3\"]), 'Userscore'].mean()\n",
    "print(\"Winter mean of userscore:\",winter_user)\n",
    "\n",
    "spring_user2 = data.loc[data['Season_Number'].isin([\"0\"]), 'Userscore']\n",
    "summer_user2 = data.loc[data['Season_Number'].isin([\"1\"]), 'Userscore']\n",
    "autumn_user2 = data.loc[data['Season_Number'].isin([\"2\"]), 'Userscore']\n",
    "winter_user2 = data.loc[data['Season_Number'].isin([\"3\"]), 'Userscore']\n",
    "\n",
    "#Perform a hypothesis test to determine whether this difference is statistically significant at the 𝜶 = 𝟎.𝟎𝟓 significance level.\n",
    "user_stat, p_user = f_oneway(spring_user2 , summer_user2 , autumn_user2 , winter_user2)\n",
    "print('Userscore Statistics =%.3f, Userscore p value =%.10f' % (user_stat, p_user))\n",
    "\n",
    "a = 0.05\n",
    "if p_user > a:\n",
    "    print('Same distributions (fail to reject null)')\n",
    "else:\n",
    "    print('Different distributions (reject null)')"
   ]
  },
  {
   "cell_type": "code",
   "execution_count": 331,
   "metadata": {},
   "outputs": [
    {
     "name": "stdout",
     "output_type": "stream",
     "text": [
      "Spring summary for NA_Sales\n",
      "count    1161.000000\n",
      "mean        0.347735\n",
      "std         0.788533\n",
      "min         0.000000\n",
      "25%         0.060000\n",
      "50%         0.150000\n",
      "75%         0.360000\n",
      "max        15.850000\n",
      "Name: NA_Sales, dtype: float64\n",
      "\n",
      "\n",
      "Spring summary for EU_Sales\n",
      "count    1161.000000\n",
      "mean        0.213902\n",
      "std         0.572546\n",
      "min         0.000000\n",
      "25%         0.020000\n",
      "50%         0.070000\n",
      "75%         0.210000\n",
      "max        12.880000\n",
      "Name: EU_Sales, dtype: float64\n",
      "\n",
      "\n",
      "Spring summary for JP_Sales\n",
      "count    1161.000000\n",
      "mean        0.050379\n",
      "std         0.279975\n",
      "min         0.000000\n",
      "25%         0.000000\n",
      "50%         0.000000\n",
      "75%         0.010000\n",
      "max         6.500000\n",
      "Name: JP_Sales, dtype: float64\n",
      "\n",
      "\n",
      "Spring summary for Other_Sales\n",
      "count    1161.000000\n",
      "mean        0.071008\n",
      "std         0.181341\n",
      "min         0.000000\n",
      "25%         0.010000\n",
      "50%         0.020000\n",
      "75%         0.070000\n",
      "max         3.310000\n",
      "Name: Other_Sales, dtype: float64\n",
      "\n",
      "\n",
      "Spring summary for Global_Sales\n",
      "count    1161.000000\n",
      "mean        0.683437\n",
      "std         1.719771\n",
      "min         0.010000\n",
      "25%         0.110000\n",
      "50%         0.290000\n",
      "75%         0.680000\n",
      "max        35.820000\n",
      "Name: Global_Sales, dtype: float64\n",
      "\n",
      "\n",
      "Spring summary for Userscore\n",
      "count    1161.000000\n",
      "mean        7.157106\n",
      "std         1.307691\n",
      "min         1.300000\n",
      "25%         6.500000\n",
      "50%         7.400000\n",
      "75%         8.100000\n",
      "max         9.400000\n",
      "Name: Userscore, dtype: float64\n",
      "\n",
      "\n",
      "Spring summary for Metascore\n",
      "count    1161.000000\n",
      "mean       70.645995\n",
      "std        13.774899\n",
      "min        17.000000\n",
      "25%        62.000000\n",
      "50%        73.000000\n",
      "75%        81.000000\n",
      "max        98.000000\n",
      "Name: Metascore, dtype: float64\n"
     ]
    }
   ],
   "source": [
    "#4 Compare the spring sales, metascore, and user score\n",
    "\n",
    "# Compute descriptive statistics\n",
    "na_spring2 = data.loc[data['Season_Number'].isin([\"0\"]), 'NA_Sales'].describe()\n",
    "eu_spring2 = data.loc[data['Season_Number'].isin([\"0\"]), 'EU_Sales'].describe()\n",
    "jp_spring2 = data.loc[data['Season_Number'].isin([\"0\"]), 'JP_Sales'].describe()\n",
    "oth_spring2 = data.loc[data['Season_Number'].isin([\"0\"]), 'Other_Sales'].describe()\n",
    "glo_spring2 = data.loc[data['Season_Number'].isin([\"0\"]), 'Global_Sales'].describe()\n",
    "spring_user2 = data.loc[data['Season_Number'].isin([\"0\"]), 'Userscore'].describe()\n",
    "spring_meta2 = data.loc[data['Season_Number'].isin([\"0\"]), 'Metascore'].describe()\n",
    "\n",
    "# Print descriptive statistics\n",
    "print(\"Spring summary for NA_Sales\")\n",
    "print(na_spring2)\n",
    "print(\"\\n\")\n",
    "print(\"Spring summary for EU_Sales\")\n",
    "print(eu_spring2)\n",
    "print(\"\\n\")\n",
    "print(\"Spring summary for JP_Sales\")\n",
    "print(jp_spring2)\n",
    "print(\"\\n\")\n",
    "print(\"Spring summary for Other_Sales\")\n",
    "print(oth_spring2)\n",
    "print(\"\\n\")\n",
    "print(\"Spring summary for Global_Sales\")\n",
    "print(glo_spring2)\n",
    "print(\"\\n\")\n",
    "print(\"Spring summary for Userscore\")\n",
    "print(spring_user2)\n",
    "print(\"\\n\")\n",
    "print(\"Spring summary for Metascore\")\n",
    "print(spring_meta2)\n",
    "\n",
    "\n"
   ]
  },
  {
   "cell_type": "code",
   "execution_count": 332,
   "metadata": {},
   "outputs": [
    {
     "name": "stdout",
     "output_type": "stream",
     "text": [
      "Summer summary for NA_Sales\n",
      "count    1039.000000\n",
      "mean        0.379971\n",
      "std         0.789904\n",
      "min         0.000000\n",
      "25%         0.050000\n",
      "50%         0.140000\n",
      "75%         0.375000\n",
      "max        15.750000\n",
      "Name: NA_Sales, dtype: float64\n",
      "\n",
      "\n",
      "Summer summary for EU_Sales\n",
      "count    1039.000000\n",
      "mean        0.173956\n",
      "std         0.503039\n",
      "min         0.000000\n",
      "25%         0.020000\n",
      "50%         0.060000\n",
      "75%         0.170000\n",
      "max        11.010000\n",
      "Name: EU_Sales, dtype: float64\n",
      "\n",
      "\n",
      "Summer summary for JP_Sales\n",
      "count    1039.000000\n",
      "mean        0.039432\n",
      "std         0.190785\n",
      "min         0.000000\n",
      "25%         0.000000\n",
      "50%         0.000000\n",
      "75%         0.000000\n",
      "max         3.280000\n",
      "Name: JP_Sales, dtype: float64\n",
      "\n",
      "\n",
      "Summer summary for Other_Sales\n",
      "count    1039.000000\n",
      "mean        0.061184\n",
      "std         0.140068\n",
      "min         0.000000\n",
      "25%         0.010000\n",
      "50%         0.020000\n",
      "75%         0.060000\n",
      "max         2.960000\n",
      "Name: Other_Sales, dtype: float64\n",
      "\n",
      "\n",
      "Summer summary for Global_Sales\n",
      "count    1039.000000\n",
      "mean        0.654678\n",
      "std         1.464588\n",
      "min         0.010000\n",
      "25%         0.100000\n",
      "50%         0.270000\n",
      "75%         0.710000\n",
      "max        33.000000\n",
      "Name: Global_Sales, dtype: float64\n",
      "\n",
      "\n",
      "Summer summary for Userscore\n",
      "count    1039.000000\n",
      "mean        7.112897\n",
      "std         1.352272\n",
      "min         1.500000\n",
      "25%         6.400000\n",
      "50%         7.400000\n",
      "75%         8.100000\n",
      "max         9.800000\n",
      "Name: Userscore, dtype: float64\n",
      "\n",
      "\n",
      "Summer summary for Metascore\n",
      "count    1039.000000\n",
      "mean       70.275265\n",
      "std        13.883609\n",
      "min        20.000000\n",
      "25%        62.000000\n",
      "50%        72.000000\n",
      "75%        80.500000\n",
      "max        96.000000\n",
      "Name: Metascore, dtype: float64\n"
     ]
    }
   ],
   "source": [
    "#4 Compare the summer sales, metascore, and user score\n",
    "\n",
    "# Compute descriptive statistics\n",
    "na_summer2 = data.loc[data['Season_Number'].isin([\"1\"]), 'NA_Sales'].describe()\n",
    "eu_summer2 = data.loc[data['Season_Number'].isin([\"1\"]), 'EU_Sales'].describe()\n",
    "jp_summer2 = data.loc[data['Season_Number'].isin([\"1\"]), 'JP_Sales'].describe()\n",
    "oth_summer2 = data.loc[data['Season_Number'].isin([\"1\"]), 'Other_Sales'].describe()\n",
    "glo_summer2 = data.loc[data['Season_Number'].isin([\"1\"]), 'Global_Sales'].describe()\n",
    "summer_user2 = data.loc[data['Season_Number'].isin([\"1\"]), 'Userscore'].describe()\n",
    "summer_meta2 = data.loc[data['Season_Number'].isin([\"1\"]), 'Metascore'].describe()\n",
    "# Print descriptive statistics\n",
    "print(\"Summer summary for NA_Sales\")\n",
    "print(na_summer2)\n",
    "print(\"\\n\")\n",
    "print(\"Summer summary for EU_Sales\")\n",
    "print(eu_summer2)\n",
    "print(\"\\n\")\n",
    "print(\"Summer summary for JP_Sales\")\n",
    "print(jp_summer2)\n",
    "print(\"\\n\")\n",
    "print(\"Summer summary for Other_Sales\")\n",
    "print(oth_summer2)\n",
    "print(\"\\n\")\n",
    "print(\"Summer summary for Global_Sales\")\n",
    "print(glo_summer2)\n",
    "print(\"\\n\")\n",
    "print(\"Summer summary for Userscore\")\n",
    "print(summer_user2)\n",
    "print(\"\\n\")\n",
    "print(\"Summer summary for Metascore\")\n",
    "print(summer_meta2)\n"
   ]
  },
  {
   "cell_type": "code",
   "execution_count": 333,
   "metadata": {},
   "outputs": [
    {
     "name": "stdout",
     "output_type": "stream",
     "text": [
      "Autumn summary for NA_Sales\n",
      "count    2841.000000\n",
      "mean        0.514414\n",
      "std         1.258246\n",
      "min         0.000000\n",
      "25%         0.080000\n",
      "50%         0.200000\n",
      "75%         0.500000\n",
      "max        41.490000\n",
      "Name: NA_Sales, dtype: float64\n",
      "\n",
      "\n",
      "Autumn summary for EU_Sales\n",
      "count    2841.000000\n",
      "mean        0.320000\n",
      "std         0.867835\n",
      "min         0.000000\n",
      "25%         0.020000\n",
      "50%         0.080000\n",
      "75%         0.290000\n",
      "max        29.020000\n",
      "Name: EU_Sales, dtype: float64\n",
      "\n",
      "\n",
      "Autumn summary for JP_Sales\n",
      "count    2841.000000\n",
      "mean        0.057782\n",
      "std         0.249768\n",
      "min         0.000000\n",
      "25%         0.000000\n",
      "50%         0.000000\n",
      "75%         0.010000\n",
      "max         4.700000\n",
      "Name: JP_Sales, dtype: float64\n",
      "\n",
      "\n",
      "Autumn summary for Other_Sales\n",
      "count    2841.000000\n",
      "mean        0.109546\n",
      "std         0.345211\n",
      "min         0.000000\n",
      "25%         0.010000\n",
      "50%         0.030000\n",
      "75%         0.090000\n",
      "max        10.570000\n",
      "Name: Other_Sales, dtype: float64\n",
      "\n",
      "\n",
      "Autumn summary for Global_Sales\n",
      "count    2841.000000\n",
      "mean        1.001946\n",
      "std         2.463533\n",
      "min         0.010000\n",
      "25%         0.140000\n",
      "50%         0.380000\n",
      "75%         0.970000\n",
      "max        82.740000\n",
      "Name: Global_Sales, dtype: float64\n",
      "\n",
      "\n",
      "Autumn summary for Userscore\n",
      "count    1039.000000\n",
      "mean        7.112897\n",
      "std         1.352272\n",
      "min         1.500000\n",
      "25%         6.400000\n",
      "50%         7.400000\n",
      "75%         8.100000\n",
      "max         9.800000\n",
      "Name: Userscore, dtype: float64\n",
      "\n",
      "\n",
      "Autumn summary for Metascore\n",
      "count    1039.000000\n",
      "mean       70.275265\n",
      "std        13.883609\n",
      "min        20.000000\n",
      "25%        62.000000\n",
      "50%        72.000000\n",
      "75%        80.500000\n",
      "max        96.000000\n",
      "Name: Metascore, dtype: float64\n"
     ]
    }
   ],
   "source": [
    "#4 Compare the autumn sales, metascore, and user score\n",
    "\n",
    "# Compute descriptive statistics\n",
    "na_autumn2 = data.loc[data['Season_Number'].isin([\"2\"]), 'NA_Sales'].describe()\n",
    "eu_autumn2 = data.loc[data['Season_Number'].isin([\"2\"]), 'EU_Sales'].describe()\n",
    "jp_autumn2 = data.loc[data['Season_Number'].isin([\"2\"]), 'JP_Sales'].describe()\n",
    "oth_autumn2 = data.loc[data['Season_Number'].isin([\"2\"]), 'Other_Sales'].describe()\n",
    "glo_autumn2 = data.loc[data['Season_Number'].isin([\"2\"]), 'Global_Sales'].describe()\n",
    "autumn_user2 = data.loc[data['Season_Number'].isin([\"1\"]), 'Userscore'].describe()\n",
    "autumn_meta2 = data.loc[data['Season_Number'].isin([\"1\"]), 'Metascore'].describe()\n",
    "# Print descriptive statistics\n",
    "print(\"Autumn summary for NA_Sales\")\n",
    "print(na_autumn2)\n",
    "print(\"\\n\")\n",
    "print(\"Autumn summary for EU_Sales\")\n",
    "print(eu_autumn2)\n",
    "print(\"\\n\")\n",
    "print(\"Autumn summary for JP_Sales\")\n",
    "print(jp_autumn2)\n",
    "print(\"\\n\")\n",
    "print(\"Autumn summary for Other_Sales\")\n",
    "print(oth_autumn2)\n",
    "print(\"\\n\")\n",
    "print(\"Autumn summary for Global_Sales\")\n",
    "print(glo_autumn2)\n",
    "print(\"\\n\")\n",
    "print(\"Autumn summary for Userscore\")\n",
    "print(autumn_user2)\n",
    "print(\"\\n\")\n",
    "print(\"Autumn summary for Metascore\")\n",
    "print(autumn_meta2)"
   ]
  },
  {
   "cell_type": "code",
   "execution_count": 334,
   "metadata": {},
   "outputs": [
    {
     "name": "stdout",
     "output_type": "stream",
     "text": [
      "Winter summary for NA_Sales\n",
      "count    692.000000\n",
      "mean       0.307890\n",
      "std        0.469482\n",
      "min        0.000000\n",
      "25%        0.060000\n",
      "50%        0.140000\n",
      "75%        0.350000\n",
      "max        4.740000\n",
      "Name: NA_Sales, dtype: float64\n",
      "\n",
      "\n",
      "Winter summary for EU_Sales\n",
      "count    692.000000\n",
      "mean       0.179812\n",
      "std        0.346168\n",
      "min        0.000000\n",
      "25%        0.020000\n",
      "50%        0.060000\n",
      "75%        0.200000\n",
      "max        3.910000\n",
      "Name: EU_Sales, dtype: float64\n",
      "\n",
      "\n",
      "Winter summary for JP_Sales\n",
      "count    692.000000\n",
      "mean       0.048829\n",
      "std        0.279374\n",
      "min        0.000000\n",
      "25%        0.000000\n",
      "50%        0.000000\n",
      "75%        0.000000\n",
      "max        5.330000\n",
      "Name: JP_Sales, dtype: float64\n",
      "\n",
      "\n",
      "Winter summary for Other_Sales\n",
      "count    692.000000\n",
      "mean       0.059899\n",
      "std        0.112471\n",
      "min        0.000000\n",
      "25%        0.010000\n",
      "50%        0.020000\n",
      "75%        0.070000\n",
      "max        1.090000\n",
      "Name: Other_Sales, dtype: float64\n",
      "\n",
      "\n",
      "Winter summary for Global_Sales\n",
      "count    692.000000\n",
      "mean       0.596546\n",
      "std        1.042251\n",
      "min        0.010000\n",
      "25%        0.100000\n",
      "50%        0.270000\n",
      "75%        0.672500\n",
      "max       12.270000\n",
      "Name: Global_Sales, dtype: float64\n",
      "\n",
      "\n",
      "Winter summary for Userscore\n",
      "count    1039.000000\n",
      "mean        7.112897\n",
      "std         1.352272\n",
      "min         1.500000\n",
      "25%         6.400000\n",
      "50%         7.400000\n",
      "75%         8.100000\n",
      "max         9.800000\n",
      "Name: Userscore, dtype: float64\n",
      "\n",
      "\n",
      "Winter summary for Metascore\n",
      "count    1039.000000\n",
      "mean       70.275265\n",
      "std        13.883609\n",
      "min        20.000000\n",
      "25%        62.000000\n",
      "50%        72.000000\n",
      "75%        80.500000\n",
      "max        96.000000\n",
      "Name: Metascore, dtype: float64\n"
     ]
    }
   ],
   "source": [
    "#4 Compare the winter sales, metascore, and user score\n",
    "\n",
    "# Compute descriptive statistics\n",
    "na_winter2 = data.loc[data['Season_Number'].isin([\"3\"]), 'NA_Sales'].describe()\n",
    "eu_winter2 = data.loc[data['Season_Number'].isin([\"3\"]), 'EU_Sales'].describe()\n",
    "jp_winter2 = data.loc[data['Season_Number'].isin([\"3\"]), 'JP_Sales'].describe()\n",
    "oth_winter2 = data.loc[data['Season_Number'].isin([\"3\"]), 'Other_Sales'].describe()\n",
    "glo_winter2 = data.loc[data['Season_Number'].isin([\"3\"]), 'Global_Sales'].describe()\n",
    "winter_user2 = data.loc[data['Season_Number'].isin([\"1\"]), 'Userscore'].describe()\n",
    "winter_meta2 = data.loc[data['Season_Number'].isin([\"1\"]), 'Metascore'].describe()\n",
    "\n",
    "# Print descriptive statistics\n",
    "print(\"Winter summary for NA_Sales\")\n",
    "print(na_winter2)\n",
    "print(\"\\n\")\n",
    "print(\"Winter summary for EU_Sales\")\n",
    "print(eu_winter2)\n",
    "print(\"\\n\")\n",
    "print(\"Winter summary for JP_Sales\")\n",
    "print(jp_winter2)\n",
    "print(\"\\n\")\n",
    "print(\"Winter summary for Other_Sales\")\n",
    "print(oth_winter2)\n",
    "print(\"\\n\")\n",
    "print(\"Winter summary for Global_Sales\")\n",
    "print(glo_winter2)\n",
    "print(\"\\n\")\n",
    "print(\"Winter summary for Userscore\")\n",
    "print(winter_user2)\n",
    "print(\"\\n\")\n",
    "print(\"Winter summary for Metascore\")\n",
    "print(winter_meta2)\n"
   ]
  },
  {
   "cell_type": "code",
   "execution_count": 335,
   "metadata": {},
   "outputs": [
    {
     "name": "stdout",
     "output_type": "stream",
     "text": [
      "Visualizing Spring NA_Sales\n"
     ]
    },
    {
     "data": {
      "text/plain": [
       "<AxesSubplot:>"
      ]
     },
     "execution_count": 335,
     "metadata": {},
     "output_type": "execute_result"
    },
    {
     "data": {
      "image/png": "[encoded data removed]",
      "text/plain": [
       "<Figure size 432x288 with 1 Axes>"
      ]
     },
     "metadata": {
      "needs_background": "light"
     },
     "output_type": "display_data"
    }
   ],
   "source": [
    "#4 Create plots to visualize the results\n",
    "# Spring NA_Sales\n",
    "print(\"Visualizing Spring NA_Sales\")\n",
    "na_spring2 = data.loc[data['Season_Number'].isin([\"0\"]), 'NA_Sales']\n",
    "na_spring2.plot(kind=\"box\")"
   ]
  },
  {
   "cell_type": "code",
   "execution_count": 336,
   "metadata": {},
   "outputs": [
    {
     "name": "stdout",
     "output_type": "stream",
     "text": [
      "Visualizing Spring EU_Sales\n"
     ]
    },
    {
     "data": {
      "text/plain": [
       "<AxesSubplot:>"
      ]
     },
     "execution_count": 336,
     "metadata": {},
     "output_type": "execute_result"
    },
    {
     "data": {
      "image/png": "[encoded data removed]",
      "text/plain": [
       "<Figure size 432x288 with 1 Axes>"
      ]
     },
     "metadata": {
      "needs_background": "light"
     },
     "output_type": "display_data"
    }
   ],
   "source": [
    "#4 Create plots to visualize the results\n",
    "# Spring EU_Sales\n",
    "print(\"Visualizing Spring EU_Sales\")\n",
    "eu_spring2 = data.loc[data['Season_Number'].isin([\"0\"]), 'EU_Sales']\n",
    "eu_spring2.plot(kind=\"box\")"
   ]
  },
  {
   "cell_type": "code",
   "execution_count": 337,
   "metadata": {},
   "outputs": [
    {
     "name": "stdout",
     "output_type": "stream",
     "text": [
      "Visualizing Spring JP_Sales\n"
     ]
    },
    {
     "data": {
      "text/plain": [
       "<AxesSubplot:>"
      ]
     },
     "execution_count": 337,
     "metadata": {},
     "output_type": "execute_result"
    },
    {
     "data": {
      "image/png": "[encoded data removed]",
      "text/plain": [
       "<Figure size 432x288 with 1 Axes>"
      ]
     },
     "metadata": {
      "needs_background": "light"
     },
     "output_type": "display_data"
    }
   ],
   "source": [
    "#4 Create plots to visualize the results\n",
    "# Spring JP_Sales\n",
    "print(\"Visualizing Spring JP_Sales\")\n",
    "jp_spring2 = data.loc[data['Season_Number'].isin([\"0\"]), 'JP_Sales']\n",
    "jp_spring2.plot(kind=\"box\")"
   ]
  },
  {
   "cell_type": "code",
   "execution_count": 338,
   "metadata": {},
   "outputs": [
    {
     "name": "stdout",
     "output_type": "stream",
     "text": [
      "Visualizing Spring Other_Sales\n"
     ]
    },
    {
     "data": {
      "text/plain": [
       "<AxesSubplot:>"
      ]
     },
     "execution_count": 338,
     "metadata": {},
     "output_type": "execute_result"
    },
    {
     "data": {
      "image/png": "[encoded data removed]",
      "text/plain": [
       "<Figure size 432x288 with 1 Axes>"
      ]
     },
     "metadata": {
      "needs_background": "light"
     },
     "output_type": "display_data"
    }
   ],
   "source": [
    "#4 Create plots to visualize the results\n",
    "# Spring Other_Sales\n",
    "print(\"Visualizing Spring Other_Sales\")\n",
    "oth_spring2 = data.loc[data['Season_Number'].isin([\"0\"]), 'Other_Sales']\n",
    "oth_spring2.plot(kind=\"box\")"
   ]
  },
  {
   "cell_type": "code",
   "execution_count": 343,
   "metadata": {},
   "outputs": [
    {
     "name": "stdout",
     "output_type": "stream",
     "text": [
      "Visualizing Spring Global_Sales\n"
     ]
    },
    {
     "data": {
      "text/plain": [
       "<AxesSubplot:>"
      ]
     },
     "execution_count": 343,
     "metadata": {},
     "output_type": "execute_result"
    },
    {
     "data": {
      "image/png": "[encoded data removed]",
      "text/plain": [
       "<Figure size 432x288 with 1 Axes>"
      ]
     },
     "metadata": {
      "needs_background": "light"
     },
     "output_type": "display_data"
    }
   ],
   "source": [
    "#4 Create plots to visualize the results\n",
    "# Spring Global_Sales\n",
    "print(\"Visualizing Spring Global_Sales\")\n",
    "glo_spring2 = data.loc[data['Season_Number'].isin([\"0\"]), 'Global_Sales']\n",
    "glo_spring2.plot(kind=\"box\")"
   ]
  },
  {
   "cell_type": "code",
   "execution_count": 344,
   "metadata": {},
   "outputs": [
    {
     "name": "stdout",
     "output_type": "stream",
     "text": [
      "Visualizing Summer NA_Sales\n"
     ]
    },
    {
     "data": {
      "text/plain": [
       "<AxesSubplot:>"
      ]
     },
     "execution_count": 344,
     "metadata": {},
     "output_type": "execute_result"
    },
    {
     "data": {
      "image/png": "[encoded data removed]",
      "text/plain": [
       "<Figure size 432x288 with 1 Axes>"
      ]
     },
     "metadata": {
      "needs_background": "light"
     },
     "output_type": "display_data"
    }
   ],
   "source": [
    "#4 Create plots to visualize the results\n",
    "# Summer NA_Sales\n",
    "print(\"Visualizing Summer NA_Sales\")\n",
    "na_summer2 = data.loc[data['Season_Number'].isin([\"1\"]), 'NA_Sales']\n",
    "na_summer2.plot(kind=\"box\")"
   ]
  },
  {
   "cell_type": "code",
   "execution_count": 345,
   "metadata": {},
   "outputs": [
    {
     "name": "stdout",
     "output_type": "stream",
     "text": [
      "Visualizing Summer EU_Sales\n"
     ]
    },
    {
     "data": {
      "text/plain": [
       "<AxesSubplot:>"
      ]
     },
     "execution_count": 345,
     "metadata": {},
     "output_type": "execute_result"
    },
    {
     "data": {
      "image/png": "[encoded data removed]",
      "text/plain": [
       "<Figure size 432x288 with 1 Axes>"
      ]
     },
     "metadata": {
      "needs_background": "light"
     },
     "output_type": "display_data"
    }
   ],
   "source": [
    "#4 Create plots to visualize the results\n",
    "# Summer EU_Sales\n",
    "print(\"Visualizing Summer EU_Sales\")\n",
    "eu_summer2 = data.loc[data['Season_Number'].isin([\"1\"]), 'EU_Sales']\n",
    "eu_summer2.plot(kind=\"box\")"
   ]
  },
  {
   "cell_type": "code",
   "execution_count": 346,
   "metadata": {},
   "outputs": [
    {
     "name": "stdout",
     "output_type": "stream",
     "text": [
      "Visualizing Summer JP_Sales\n"
     ]
    },
    {
     "data": {
      "text/plain": [
       "<AxesSubplot:>"
      ]
     },
     "execution_count": 346,
     "metadata": {},
     "output_type": "execute_result"
    },
    {
     "data": {
      "image/png": "[encoded data removed]",
      "text/plain": [
       "<Figure size 432x288 with 1 Axes>"
      ]
     },
     "metadata": {
      "needs_background": "light"
     },
     "output_type": "display_data"
    }
   ],
   "source": [
    "#4 Create plots to visualize the results\n",
    "# Summer JP_Sales\n",
    "print(\"Visualizing Summer JP_Sales\")\n",
    "jp_summer2 = data.loc[data['Season_Number'].isin([\"1\"]), 'JP_Sales']\n",
    "jp_summer2.plot(kind=\"box\")"
   ]
  },
  {
   "cell_type": "code",
   "execution_count": 347,
   "metadata": {},
   "outputs": [
    {
     "name": "stdout",
     "output_type": "stream",
     "text": [
      "Visualizing Summer Other_Sales\n"
     ]
    },
    {
     "data": {
      "text/plain": [
       "<AxesSubplot:>"
      ]
     },
     "execution_count": 347,
     "metadata": {},
     "output_type": "execute_result"
    },
    {
     "data": {
      "image/png": "[encoded data removed]",
      "text/plain": [
       "<Figure size 432x288 with 1 Axes>"
      ]
     },
     "metadata": {
      "needs_background": "light"
     },
     "output_type": "display_data"
    }
   ],
   "source": [
    "# Create plots to visualize the results\n",
    "# Summer Other_Sales\n",
    "print(\"Visualizing Summer Other_Sales\")\n",
    "oth_summer2 = data.loc[data['Season_Number'].isin([\"1\"]), 'Other_Sales']\n",
    "oth_summer2.plot(kind=\"box\")"
   ]
  },
  {
   "cell_type": "code",
   "execution_count": 348,
   "metadata": {},
   "outputs": [
    {
     "name": "stdout",
     "output_type": "stream",
     "text": [
      "Visualizing Summer Global_Sales\n"
     ]
    },
    {
     "data": {
      "text/plain": [
       "<AxesSubplot:>"
      ]
     },
     "execution_count": 348,
     "metadata": {},
     "output_type": "execute_result"
    },
    {
     "data": {
      "image/png": "[encoded data removed]",
      "text/plain": [
       "<Figure size 432x288 with 1 Axes>"
      ]
     },
     "metadata": {
      "needs_background": "light"
     },
     "output_type": "display_data"
    }
   ],
   "source": [
    "#4 Create plots to visualize the results\n",
    "# Summer Global_Sales\n",
    "print(\"Visualizing Summer Global_Sales\")\n",
    "glo_summer2 = data.loc[data['Season_Number'].isin([\"1\"]), 'Global_Sales']\n",
    "glo_summer2.plot(kind=\"box\")"
   ]
  },
  {
   "cell_type": "code",
   "execution_count": 349,
   "metadata": {},
   "outputs": [
    {
     "name": "stdout",
     "output_type": "stream",
     "text": [
      "Visualizing Autumn NA_Sales\n"
     ]
    },
    {
     "data": {
      "text/plain": [
       "<AxesSubplot:>"
      ]
     },
     "execution_count": 349,
     "metadata": {},
     "output_type": "execute_result"
    },
    {
     "data": {
      "image/png": "[encoded data removed]",
      "text/plain": [
       "<Figure size 432x288 with 1 Axes>"
      ]
     },
     "metadata": {
      "needs_background": "light"
     },
     "output_type": "display_data"
    }
   ],
   "source": [
    "#4 Create plots to visualize the results\n",
    "# Autumn NA_Sales\n",
    "print(\"Visualizing Autumn NA_Sales\")\n",
    "na_autumn2 = data.loc[data['Season_Number'].isin([\"2\"]), 'NA_Sales']\n",
    "na_autumn2.plot(kind=\"box\")"
   ]
  },
  {
   "cell_type": "code",
   "execution_count": 350,
   "metadata": {},
   "outputs": [
    {
     "name": "stdout",
     "output_type": "stream",
     "text": [
      "Visualizing Autumn EU_Sales\n"
     ]
    },
    {
     "data": {
      "text/plain": [
       "<AxesSubplot:>"
      ]
     },
     "execution_count": 350,
     "metadata": {},
     "output_type": "execute_result"
    },
    {
     "data": {
      "image/png": "[encoded data removed]",
      "text/plain": [
       "<Figure size 432x288 with 1 Axes>"
      ]
     },
     "metadata": {
      "needs_background": "light"
     },
     "output_type": "display_data"
    }
   ],
   "source": [
    "#4 Create plots to visualize the results\n",
    "# Autumn EU_Sales\n",
    "print(\"Visualizing Autumn EU_Sales\")\n",
    "eu_autumn2 = data.loc[data['Season_Number'].isin([\"2\"]), 'EU_Sales']\n",
    "eu_autumn2.plot(kind=\"box\")"
   ]
  },
  {
   "cell_type": "code",
   "execution_count": 352,
   "metadata": {},
   "outputs": [
    {
     "name": "stdout",
     "output_type": "stream",
     "text": [
      "Visualizing Autumn JP_Sales\n"
     ]
    },
    {
     "data": {
      "text/plain": [
       "<AxesSubplot:>"
      ]
     },
     "execution_count": 352,
     "metadata": {},
     "output_type": "execute_result"
    },
    {
     "data": {
      "image/png": "[encoded data removed]",
      "text/plain": [
       "<Figure size 432x288 with 1 Axes>"
      ]
     },
     "metadata": {
      "needs_background": "light"
     },
     "output_type": "display_data"
    }
   ],
   "source": [
    "#4 Create plots to visualize the results\n",
    "# Autumn JP_Sales\n",
    "print(\"Visualizing Autumn JP_Sales\")\n",
    "jp_autumn2 = data.loc[data['Season_Number'].isin([\"2\"]), 'JP_Sales']\n",
    "jp_autumn2.plot(kind=\"box\")"
   ]
  },
  {
   "cell_type": "code",
   "execution_count": 353,
   "metadata": {},
   "outputs": [
    {
     "name": "stdout",
     "output_type": "stream",
     "text": [
      "Visualizing Autumn Other_Sales\n"
     ]
    },
    {
     "data": {
      "text/plain": [
       "<AxesSubplot:>"
      ]
     },
     "execution_count": 353,
     "metadata": {},
     "output_type": "execute_result"
    },
    {
     "data": {
      "image/png": "[encoded data removed]",
      "text/plain": [
       "<Figure size 432x288 with 1 Axes>"
      ]
     },
     "metadata": {
      "needs_background": "light"
     },
     "output_type": "display_data"
    }
   ],
   "source": [
    "#4 Create plots to visualize the results\n",
    "# Autumn Other_Sales\n",
    "print(\"Visualizing Autumn Other_Sales\")\n",
    "oth_autumn2 = data.loc[data['Season_Number'].isin([\"2\"]), 'Other_Sales']\n",
    "oth_autumn2.plot(kind=\"box\")"
   ]
  },
  {
   "cell_type": "code",
   "execution_count": 354,
   "metadata": {},
   "outputs": [
    {
     "name": "stdout",
     "output_type": "stream",
     "text": [
      "Visualizing Autumn Global_Sales\n"
     ]
    },
    {
     "data": {
      "text/plain": [
       "<AxesSubplot:>"
      ]
     },
     "execution_count": 354,
     "metadata": {},
     "output_type": "execute_result"
    },
    {
     "data": {
      "image/png": "[encoded data removed]",
      "text/plain": [
       "<Figure size 432x288 with 1 Axes>"
      ]
     },
     "metadata": {
      "needs_background": "light"
     },
     "output_type": "display_data"
    }
   ],
   "source": [
    "#4 Create plots to visualize the results\n",
    "# Autumn Global_Sales\n",
    "print(\"Visualizing Autumn Global_Sales\")\n",
    "glo_autumn2 = data.loc[data['Season_Number'].isin([\"2\"]), 'Global_Sales']\n",
    "glo_autumn2.plot(kind=\"box\")"
   ]
  },
  {
   "cell_type": "code",
   "execution_count": 355,
   "metadata": {},
   "outputs": [
    {
     "name": "stdout",
     "output_type": "stream",
     "text": [
      "Visualizing Winter NA_Sales\n"
     ]
    },
    {
     "data": {
      "text/plain": [
       "<AxesSubplot:>"
      ]
     },
     "execution_count": 355,
     "metadata": {},
     "output_type": "execute_result"
    },
    {
     "data": {
      "image/png": "[encoded data removed]",
      "text/plain": [
       "<Figure size 432x288 with 1 Axes>"
      ]
     },
     "metadata": {
      "needs_background": "light"
     },
     "output_type": "display_data"
    }
   ],
   "source": [
    "#4 Create plots to visualize the results\n",
    "# Winter NA_Sales\n",
    "print(\"Visualizing Winter NA_Sales\")\n",
    "na_winter2 = data.loc[data['Season_Number'].isin([\"3\"]), 'NA_Sales']\n",
    "na_winter2.plot(kind=\"box\")"
   ]
  },
  {
   "cell_type": "code",
   "execution_count": 356,
   "metadata": {},
   "outputs": [
    {
     "name": "stdout",
     "output_type": "stream",
     "text": [
      "Visualizing Winter EU_Sales\n"
     ]
    },
    {
     "data": {
      "text/plain": [
       "<AxesSubplot:>"
      ]
     },
     "execution_count": 356,
     "metadata": {},
     "output_type": "execute_result"
    },
    {
     "data": {
      "image/png": "[encoded data removed]",
      "text/plain": [
       "<Figure size 432x288 with 1 Axes>"
      ]
     },
     "metadata": {
      "needs_background": "light"
     },
     "output_type": "display_data"
    }
   ],
   "source": [
    "#4 Create plots to visualize the results\n",
    "# Winter EU_Sales\n",
    "print(\"Visualizing Winter EU_Sales\")\n",
    "eu_winter2 = data.loc[data['Season_Number'].isin([\"3\"]), 'EU_Sales']\n",
    "eu_winter2.plot(kind=\"box\")"
   ]
  },
  {
   "cell_type": "code",
   "execution_count": 357,
   "metadata": {},
   "outputs": [
    {
     "name": "stdout",
     "output_type": "stream",
     "text": [
      "Visualizing Winter JP_Sales\n"
     ]
    },
    {
     "data": {
      "text/plain": [
       "<AxesSubplot:>"
      ]
     },
     "execution_count": 357,
     "metadata": {},
     "output_type": "execute_result"
    },
    {
     "data": {
      "image/png": "[encoded data removed]",
      "text/plain": [
       "<Figure size 432x288 with 1 Axes>"
      ]
     },
     "metadata": {
      "needs_background": "light"
     },
     "output_type": "display_data"
    }
   ],
   "source": [
    "#4 Create plots to visualize the results\n",
    "# Winter JP_Sales\n",
    "print(\"Visualizing Winter JP_Sales\")\n",
    "jp_winter2 = data.loc[data['Season_Number'].isin([\"3\"]), 'JP_Sales']\n",
    "jp_winter2.plot(kind=\"box\")"
   ]
  },
  {
   "cell_type": "code",
   "execution_count": 358,
   "metadata": {},
   "outputs": [
    {
     "name": "stdout",
     "output_type": "stream",
     "text": [
      "Visualizing Winter Other_Sales\n"
     ]
    },
    {
     "data": {
      "text/plain": [
       "<AxesSubplot:>"
      ]
     },
     "execution_count": 358,
     "metadata": {},
     "output_type": "execute_result"
    },
    {
     "data": {
      "image/png": "[encoded data removed]",
      "text/plain": [
       "<Figure size 432x288 with 1 Axes>"
      ]
     },
     "metadata": {
      "needs_background": "light"
     },
     "output_type": "display_data"
    }
   ],
   "source": [
    "#4 Create plots to visualize the results\n",
    "# Winter Other_Sales\n",
    "print(\"Visualizing Winter Other_Sales\")\n",
    "oth_winter2 = data.loc[data['Season_Number'].isin([\"3\"]), 'Other_Sales']\n",
    "oth_winter2.plot(kind=\"box\")"
   ]
  },
  {
   "cell_type": "code",
   "execution_count": 359,
   "metadata": {},
   "outputs": [
    {
     "name": "stdout",
     "output_type": "stream",
     "text": [
      "Visualizing Winter Global_Sales\n"
     ]
    },
    {
     "data": {
      "text/plain": [
       "<AxesSubplot:>"
      ]
     },
     "execution_count": 359,
     "metadata": {},
     "output_type": "execute_result"
    },
    {
     "data": {
      "image/png": "[encoded data removed]",
      "text/plain": [
       "<Figure size 432x288 with 1 Axes>"
      ]
     },
     "metadata": {
      "needs_background": "light"
     },
     "output_type": "display_data"
    }
   ],
   "source": [
    "#4 Create plots to visualize the results\n",
    "# Winter Global_Sales\n",
    "print(\"Visualizing Winter Global_Sales\")\n",
    "glo_winter2 = data.loc[data['Season_Number'].isin([\"3\"]), 'Global_Sales']\n",
    "glo_winter2.plot(kind=\"box\")"
   ]
  },
  {
   "cell_type": "code",
   "execution_count": 360,
   "metadata": {},
   "outputs": [
    {
     "name": "stdout",
     "output_type": "stream",
     "text": [
      "Visualizing Spring Metascore\n"
     ]
    },
    {
     "data": {
      "text/plain": [
       "<AxesSubplot:>"
      ]
     },
     "execution_count": 360,
     "metadata": {},
     "output_type": "execute_result"
    },
    {
     "data": {
      "image/png": "[encoded data removed]",
      "text/plain": [
       "<Figure size 432x288 with 1 Axes>"
      ]
     },
     "metadata": {
      "needs_background": "light"
     },
     "output_type": "display_data"
    }
   ],
   "source": [
    "#4 Create plots to visualize the results\n",
    "# Spring Metascore\n",
    "print(\"Visualizing Spring Metascore\")\n",
    "spring_meta2 = data.loc[data['Season_Number'].isin([\"0\"]), 'Metascore']\n",
    "spring_meta2.plot(kind=\"box\")"
   ]
  },
  {
   "cell_type": "code",
   "execution_count": 361,
   "metadata": {},
   "outputs": [
    {
     "name": "stdout",
     "output_type": "stream",
     "text": [
      "Visualizing Summer Metascore\n"
     ]
    },
    {
     "data": {
      "text/plain": [
       "<AxesSubplot:>"
      ]
     },
     "execution_count": 361,
     "metadata": {},
     "output_type": "execute_result"
    },
    {
     "data": {
      "image/png": "[encoded data removed]",
      "text/plain": [
       "<Figure size 432x288 with 1 Axes>"
      ]
     },
     "metadata": {
      "needs_background": "light"
     },
     "output_type": "display_data"
    }
   ],
   "source": [
    "#4 Create plots to visualize the results\n",
    "# Summer Metascore\n",
    "print(\"Visualizing Summer Metascore\")\n",
    "summer_meta2 = data.loc[data['Season_Number'].isin([\"1\"]), 'Metascore']\n",
    "summer_meta2.plot(kind=\"box\")"
   ]
  },
  {
   "cell_type": "code",
   "execution_count": 362,
   "metadata": {},
   "outputs": [
    {
     "name": "stdout",
     "output_type": "stream",
     "text": [
      "Visualizing Autumn Metascore\n"
     ]
    },
    {
     "data": {
      "text/plain": [
       "<AxesSubplot:>"
      ]
     },
     "execution_count": 362,
     "metadata": {},
     "output_type": "execute_result"
    },
    {
     "data": {
      "image/png": "[encoded data removed]",
      "text/plain": [
       "<Figure size 432x288 with 1 Axes>"
      ]
     },
     "metadata": {
      "needs_background": "light"
     },
     "output_type": "display_data"
    }
   ],
   "source": [
    "#4 Create plots to visualize the results\n",
    "# Autumn Metascore\n",
    "print(\"Visualizing Autumn Metascore\")\n",
    "autumn_meta2 = data.loc[data['Season_Number'].isin([\"2\"]), 'Metascore']\n",
    "autumn_meta2.plot(kind=\"box\")"
   ]
  },
  {
   "cell_type": "code",
   "execution_count": 363,
   "metadata": {},
   "outputs": [
    {
     "name": "stdout",
     "output_type": "stream",
     "text": [
      "Visualizing Winter Metascore\n"
     ]
    },
    {
     "data": {
      "text/plain": [
       "<AxesSubplot:>"
      ]
     },
     "execution_count": 363,
     "metadata": {},
     "output_type": "execute_result"
    },
    {
     "data": {
      "image/png": "[encoded data removed]",
      "text/plain": [
       "<Figure size 432x288 with 1 Axes>"
      ]
     },
     "metadata": {
      "needs_background": "light"
     },
     "output_type": "display_data"
    }
   ],
   "source": [
    "#4 Create plots to visualize the results\n",
    "# Winter Metascore\n",
    "print(\"Visualizing Winter Metascore\")\n",
    "winter_meta2 = data.loc[data['Season_Number'].isin([\"3\"]), 'Metascore']\n",
    "winter_meta2.plot(kind=\"box\")"
   ]
  },
  {
   "cell_type": "code",
   "execution_count": 364,
   "metadata": {},
   "outputs": [
    {
     "name": "stdout",
     "output_type": "stream",
     "text": [
      "Visualizing Spring Userscore\n"
     ]
    },
    {
     "data": {
      "text/plain": [
       "<AxesSubplot:>"
      ]
     },
     "execution_count": 364,
     "metadata": {},
     "output_type": "execute_result"
    },
    {
     "data": {
      "image/png": "[encoded data removed]",
      "text/plain": [
       "<Figure size 432x288 with 1 Axes>"
      ]
     },
     "metadata": {
      "needs_background": "light"
     },
     "output_type": "display_data"
    }
   ],
   "source": [
    "#4 Create plots to visualize the results\n",
    "# Spring Userscore\n",
    "print(\"Visualizing Spring Userscore\")\n",
    "spring_user2 = data.loc[data['Season_Number'].isin([\"0\"]), 'Userscore']\n",
    "spring_user2.plot(kind=\"box\")"
   ]
  },
  {
   "cell_type": "code",
   "execution_count": 365,
   "metadata": {},
   "outputs": [
    {
     "name": "stdout",
     "output_type": "stream",
     "text": [
      "Visualizing Summer Userscore\n"
     ]
    },
    {
     "data": {
      "text/plain": [
       "<AxesSubplot:>"
      ]
     },
     "execution_count": 365,
     "metadata": {},
     "output_type": "execute_result"
    },
    {
     "data": {
      "image/png": "[encoded data removed]",
      "text/plain": [
       "<Figure size 432x288 with 1 Axes>"
      ]
     },
     "metadata": {
      "needs_background": "light"
     },
     "output_type": "display_data"
    }
   ],
   "source": [
    "#4 Create plots to visualize the results\n",
    "# Summer Userscore\n",
    "print(\"Visualizing Summer Userscore\")\n",
    "summer_user2 = data.loc[data['Season_Number'].isin([\"1\"]), 'Userscore']\n",
    "summer_user2.plot(kind=\"box\")"
   ]
  },
  {
   "cell_type": "code",
   "execution_count": 366,
   "metadata": {},
   "outputs": [
    {
     "name": "stdout",
     "output_type": "stream",
     "text": [
      "Visualizing Autumn Userscore\n"
     ]
    },
    {
     "data": {
      "text/plain": [
       "<AxesSubplot:>"
      ]
     },
     "execution_count": 366,
     "metadata": {},
     "output_type": "execute_result"
    },
    {
     "data": {
      "image/png": "[encoded data removed]",
      "text/plain": [
       "<Figure size 432x288 with 1 Axes>"
      ]
     },
     "metadata": {
      "needs_background": "light"
     },
     "output_type": "display_data"
    }
   ],
   "source": [
    "#4 Create plots to visualize the results\n",
    "# Autumn Userscore\n",
    "print(\"Visualizing Autumn Userscore\")\n",
    "autumn_user2 = data.loc[data['Season_Number'].isin([\"2\"]), 'Userscore']\n",
    "autumn_user2.plot(kind=\"box\")"
   ]
  },
  {
   "cell_type": "code",
   "execution_count": 367,
   "metadata": {},
   "outputs": [
    {
     "name": "stdout",
     "output_type": "stream",
     "text": [
      "Visualizing Winter Userscore\n"
     ]
    },
    {
     "data": {
      "text/plain": [
       "<AxesSubplot:>"
      ]
     },
     "execution_count": 367,
     "metadata": {},
     "output_type": "execute_result"
    },
    {
     "data": {
      "image/png": "[encoded data removed]",
      "text/plain": [
       "<Figure size 432x288 with 1 Axes>"
      ]
     },
     "metadata": {
      "needs_background": "light"
     },
     "output_type": "display_data"
    }
   ],
   "source": [
    "#4 Create plots to visualize the results\n",
    "# Winter Userscore\n",
    "print(\"Visualizing Winter Userscore\")\n",
    "winter_user2 = data.loc[data['Season_Number'].isin([\"3\"]), 'Userscore']\n",
    "winter_user2.plot(kind=\"box\")"
   ]
  },
  {
   "cell_type": "code",
   "execution_count": null,
   "metadata": {},
   "outputs": [],
   "source": []
  }
 ],
 "metadata": {
  "kernelspec": {
   "display_name": "Python 3",
   "language": "python",
   "name": "python3"
  },
  "language_info": {
   "codemirror_mode": {
    "name": "ipython",
    "version": 3
   },
   "file_extension": ".py",
   "mimetype": "text/x-python",
   "name": "python",
   "nbconvert_exporter": "python",
   "pygments_lexer": "ipython3",
   "version": "3.8.5"
  }
 },
 "nbformat": 4,
 "nbformat_minor": 4
}
